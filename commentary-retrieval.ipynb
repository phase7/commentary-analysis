{
 "cells": [
  {
   "cell_type": "markdown",
   "metadata": {},
   "source": [
    "# Explaining part by part"
   ]
  },
  {
   "cell_type": "code",
   "execution_count": null,
   "metadata": {},
   "outputs": [],
   "source": [
    "import requests\n",
    "import json\n",
    "import os\n",
    "import io"
   ]
  },
  {
   "cell_type": "code",
   "execution_count": null,
   "metadata": {},
   "outputs": [],
   "source": [
    "base_dir = os.getcwd()\n",
    "db_folder_name = \"commentaries1\""
   ]
  },
  {
   "cell_type": "markdown",
   "metadata": {},
   "source": [
    "- here, we are setting the current directory as base. current working directory (cwd) shifts from time to time, so I am just storing the base directory to reset cwd.\n",
    "- db_folder_name is the folder where all commentaries will be saved structurally"
   ]
  },
  {
   "cell_type": "code",
   "execution_count": null,
   "metadata": {},
   "outputs": [],
   "source": [
    "with io.open(\"match_ids.json\", \"r\") as file:\n",
    "    matches = json.load(file)"
   ]
  },
  {
   "cell_type": "markdown",
   "metadata": {},
   "source": [
    "- the match_ids.json is the file where all relevant match ids are stored. I've done this manually (for now).\n",
    "- this page have all links sorted by year - http://stats.espncricinfo.com/ci/engine/records/team/match_results.html?class=2;id=2019;team=25;type=year"
   ]
  },
  {
   "cell_type": "code",
   "execution_count": null,
   "metadata": {},
   "outputs": [],
   "source": [
    "innings_total = [1,2]\n",
    "\n",
    "for match_id in matches:\n",
    "    os.chdir(os.path.join(base_dir, db_folder_name))\n",
    "    match_dir_name = str(match_id)"
   ]
  },
  {
   "cell_type": "markdown",
   "metadata": {},
   "source": [
    "- total inning for one-day is two. Saving that as a list.\n",
    "- for each match id there will be a folder, just like a database. that folder will contain all json responses - sorted by innings."
   ]
  },
  {
   "cell_type": "code",
   "execution_count": null,
   "metadata": {},
   "outputs": [],
   "source": [
    "if not os.path.exists(match_dir_name):\n",
    "            os.mkdir(match_dir_name)\n",
    "            \n",
    "    os.chdir(match_dir_name) "
   ]
  },
  {
   "cell_type": "markdown",
   "metadata": {},
   "source": [
    "- if, for any reson there is a folder like that before, we'll use that. otherwise creating a new one."
   ]
  },
  {
   "cell_type": "code",
   "execution_count": null,
   "metadata": {},
   "outputs": [],
   "source": [
    "for innings in innings_total:\n",
    "        innings_dir_name = \"innings0\"+str(innings)\n",
    "        \n",
    "        if not os.path.exists(innings_dir_name):\n",
    "            os.mkdir(innings_dir_name)\n",
    "        os.chdir(innings_dir_name)"
   ]
  },
  {
   "cell_type": "markdown",
   "metadata": {},
   "source": [
    "- creating sub directories for ech innings\n"
   ]
  },
  {
   "cell_type": "code",
   "execution_count": null,
   "metadata": {},
   "outputs": [],
   "source": [
    "j=1 #start/restart with a non-zero number\n",
    "        \n",
    "        while(j):\n",
    "            apistr = 'http://site.web.api.espn.com/apis/site/v2/sports/cricket/5/playbyplay?contentorigin=espn&event='+ str(match_id) +'&page=' + str(j) + '&period='+str(innings)+'&section=cricinfo'\n",
    "            r = requests.get(apistr)\n",
    "            data = r.json()\n",
    "            items = data[\"commentary\"][\"items\"]"
   ]
  },
  {
   "cell_type": "markdown",
   "metadata": {},
   "source": [
    "# Important part\n",
    "### api-str\n",
    "- the api-str is the repititive generic part of ajax call.We need to add the ***match id***, ***innings no*** and ***segment no*** of commentary iteratively.\n",
    "\n",
    "### items\n",
    "- this variable represent data-bundle of a small part of commentary and meta data about that commentary.\n",
    "- if the api call points to a non existant segment then, this variable is an empty list.  we  use this property in the next section."
   ]
  },
  {
   "cell_type": "code",
   "execution_count": null,
   "metadata": {},
   "outputs": [],
   "source": [
    "    if  len(items) == 0:\n",
    "                j = 0\n",
    "                os.chdir(\"..\")\n",
    "                continue"
   ]
  },
  {
   "cell_type": "markdown",
   "metadata": {},
   "source": [
    "- each innings has around 12-13 segments on average. after that the next innings's commentary starts. we can check whether there is anymore commentary using the length of ***items*** variable.\n",
    "- when we encounter end of commentary-segments we assume that is the end of current innings. so we go to parent directory for the next innings"
   ]
  },
  {
   "cell_type": "code",
   "execution_count": null,
   "metadata": {},
   "outputs": [],
   "source": [
    " with io.open(\"comm_part\"+str(j)+\".json\", \"w\") as file:\n",
    "                json.dump(data,file)"
   ]
  },
  {
   "cell_type": "markdown",
   "metadata": {},
   "source": [
    "- saving the response as json file"
   ]
  },
  {
   "cell_type": "code",
   "execution_count": null,
   "metadata": {},
   "outputs": [],
   "source": [
    "    j += 1"
   ]
  },
  {
   "cell_type": "markdown",
   "metadata": {},
   "source": [
    "- varaiable ***j*** is pointing to the next segment of commentary"
   ]
  }
 ],
 "metadata": {
  "kernelspec": {
   "display_name": "Python 3",
   "language": "python",
   "name": "python3"
  },
  "language_info": {
   "codemirror_mode": {
    "name": "ipython",
    "version": 3
   },
   "file_extension": ".py",
   "mimetype": "text/x-python",
   "name": "python",
   "nbconvert_exporter": "python",
   "pygments_lexer": "ipython3",
   "version": "3.6.9"
  }
 },
 "nbformat": 4,
 "nbformat_minor": 2
}
