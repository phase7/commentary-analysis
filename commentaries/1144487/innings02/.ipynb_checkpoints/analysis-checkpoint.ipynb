{
 "cells": [
  {
   "cell_type": "markdown",
   "metadata": {},
   "source": [
    "## Finding correlation in playType's id and description"
   ]
  },
  {
   "cell_type": "code",
   "execution_count": 2,
   "metadata": {},
   "outputs": [],
   "source": [
    "import io, json, os"
   ]
  },
  {
   "cell_type": "code",
   "execution_count": 11,
   "metadata": {},
   "outputs": [],
   "source": [
    "files = [x for x in os.listdir() if 'json' in x]\n",
    "playType = dict()"
   ]
  },
  {
   "cell_type": "code",
   "execution_count": 18,
   "metadata": {},
   "outputs": [],
   "source": [
    "for file in files:\n",
    "    with io.open(file , 'r') as jsonfile:\n",
    "        data = json.load(jsonfile)\n",
    "        for item in data['commentary']['items']:\n",
    "            #print (item['playType']['id'], item['playType']['description'])\n",
    "            if item['playType']['id'] not in playType:\n",
    "                playType[item['playType']['id']] = item['playType']['description']"
   ]
  },
  {
   "cell_type": "code",
   "execution_count": 20,
   "metadata": {},
   "outputs": [
    {
     "data": {
      "text/plain": [
       "{'2': 'no run',\n",
       " '3': 'four',\n",
       " '1': 'run',\n",
       " '9': 'out',\n",
       " '6': 'wide',\n",
       " '5': 'no ball',\n",
       " '4': 'six',\n",
       " '7': 'bye'}"
      ]
     },
     "execution_count": 20,
     "metadata": {},
     "output_type": "execute_result"
    }
   ],
   "source": [
    "playType"
   ]
  }
 ],
 "metadata": {
  "kernelspec": {
   "display_name": "Python 3",
   "language": "python",
   "name": "python3"
  },
  "language_info": {
   "codemirror_mode": {
    "name": "ipython",
    "version": 3
   },
   "file_extension": ".py",
   "mimetype": "text/x-python",
   "name": "python",
   "nbconvert_exporter": "python",
   "pygments_lexer": "ipython3",
   "version": "3.6.8"
  }
 },
 "nbformat": 4,
 "nbformat_minor": 2
}
