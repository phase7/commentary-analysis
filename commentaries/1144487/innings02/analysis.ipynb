{
 "cells": [
  {
   "cell_type": "markdown",
   "metadata": {},
   "source": [
    "## Finding correlation in playType's id and description"
   ]
  },
  {
   "cell_type": "code",
   "execution_count": null,
   "metadata": {},
   "outputs": [],
   "source": [
    "import io, json, os"
   ]
  },
  {
   "cell_type": "code",
   "execution_count": null,
   "metadata": {},
   "outputs": [],
   "source": [
    "files = [x for x in os.listdir() if 'json' in x]\n",
    "#playType = dict()"
   ]
  },
  {
   "cell_type": "code",
   "execution_count": null,
   "metadata": {},
   "outputs": [],
   "source": [
    "for file in files:\n",
    "    with io.open(file , 'r') as jsonfile:\n",
    "        data = json.load(jsonfile)\n",
    "        for item in data['commentary']['items']:\n",
    "            #print (item['playType']['id'], item['playType']['description'])\n",
    "            if item['playType']['id'] not in playType:\n",
    "                playType[item['playType']['id']] = item['playType']['description']"
   ]
  },
  {
   "cell_type": "code",
   "execution_count": null,
   "metadata": {},
   "outputs": [],
   "source": [
    "playType"
   ]
  },
  {
   "cell_type": "markdown",
   "metadata": {},
   "source": [
    "## testing and looking for patterns"
   ]
  },
  {
   "cell_type": "code",
   "execution_count": null,
   "metadata": {},
   "outputs": [],
   "source": [
    "t_commentary = 'commentary'\n",
    "t_items = 'items'\n",
    "t_shorttext = 'shortText'\n",
    "t_postText = 'postText'\n",
    "t_text = 'text'\n",
    "t_preText = 'preText'"
   ]
  },
  {
   "cell_type": "code",
   "execution_count": null,
   "metadata": {},
   "outputs": [],
   "source": [
    "for filename in files:\n",
    "    with open(filename, 'r') as file:\n",
    "        data = json.load(file)\n",
    "\n",
    "    for item in data[t_commentary][t_items]:\n",
    "#         print (t_postText, item[t_postText])\n",
    "        print (filename)\n",
    "        print(t_preText, item[t_preText])\n",
    "#         print (t_text, item[t_text])\n",
    "#         print ('\\n', t_shorttext, item[t_shorttext])"
   ]
  },
  {
   "cell_type": "markdown",
   "metadata": {},
   "source": [
    "#### *looks like postText contains valueable data on a person for analysis* I'll have to detect the named entity of a person and add to his score from any sentence that has his name\n",
    "\n",
    "preText is valuable but only **if it has names**"
   ]
  },
  {
   "cell_type": "markdown",
   "metadata": {},
   "source": [
    "# Let's create a function for person detection"
   ]
  },
  {
   "cell_type": "code",
   "execution_count": 1,
   "metadata": {},
   "outputs": [],
   "source": [
    "from bs4 import BeautifulSoup as bsp\n",
    "import nltk\n",
    "from nltk.tokenize import sent_tokenize, word_tokenize\n",
    "from nltk.corpus import stopwords\n",
    "\n",
    "def without_stopwords(word_list):\n",
    "    stopset = set(stopwords.words('english'))\n",
    "    return [x for x in word_list if x not in stopset]\n",
    "\n",
    "text = 'Soumya and Tamim are headed out to the middle as are the South African team. Tamim will face the first ball. His wrist must be OK. Lungi Ngidi has the new ball. Here we go.\\n\\n<strong>10.22am</strong> The teams are out on the ground for the anthems.\\n\\nNews from the South African camp regarding Hashim Amla\\'s health. Proteas team manager, Dr Mohammed Moosajee explained:  \"Hashim hasn\\'t fully recovered from the blow sustained to the helmet during the match against England on Thursday and is not available for selection for the match today. With the quick turnaround between the two matches, he is being rested as a precaution, based on our post-match re-assessment. We are hopeful that he will make a full recovery to be available for selection for our next match against India.'\n",
    "sentence = bsp(text, 'lxml').text"
   ]
  },
  {
   "cell_type": "code",
   "execution_count": 2,
   "metadata": {},
   "outputs": [
    {
     "data": {
      "text/plain": [
       "'Soumya and Tamim are headed out to the middle as are the South African team. Tamim will face the first ball. His wrist must be OK. Lungi Ngidi has the new ball. Here we go.\\n\\n10.22am The teams are out on the ground for the anthems.\\n\\nNews from the South African camp regarding Hashim Amla\\'s health. Proteas team manager, Dr Mohammed Moosajee explained:  \"Hashim hasn\\'t fully recovered from the blow sustained to the helmet during the match against England on Thursday and is not available for selection for the match today. With the quick turnaround between the two matches, he is being rested as a precaution, based on our post-match re-assessment. We are hopeful that he will make a full recovery to be available for selection for our next match against India.'"
      ]
     },
     "execution_count": 2,
     "metadata": {},
     "output_type": "execute_result"
    }
   ],
   "source": [
    "sentence"
   ]
  },
  {
   "cell_type": "code",
   "execution_count": 3,
   "metadata": {},
   "outputs": [],
   "source": [
    "import requests, io, json\n",
    "r = requests.get('http://www.espncricinfo.com/series/engine/match/1144487.json')\n",
    "match_summ = r.json()"
   ]
  },
  {
   "cell_type": "code",
   "execution_count": 4,
   "metadata": {},
   "outputs": [],
   "source": [
    "player_names = dict()\n",
    "for item in match_summ['team'][0]['player']:\n",
    "    player_names[item['known_as'].lower()] = list([item['card_long'].lower(),item['popular_name'].lower(),item['known_as'].lower()])\n",
    "#     name_list.extend([item['card_long'],item['card_short'],item['known_as']])\n",
    "#     name_list.add(item['card_long'])\n",
    "#     name_list.add(item['popular_name'])\n",
    "#     name_list.add(item['known_as'])\n",
    "# player_names = set(name_list)"
   ]
  },
  {
   "cell_type": "code",
   "execution_count": 5,
   "metadata": {},
   "outputs": [
    {
     "data": {
      "text/plain": [
       "True"
      ]
     },
     "execution_count": 5,
     "metadata": {},
     "output_type": "execute_result"
    }
   ],
   "source": [
    "'tamim' in player_names['tamim iqbal']"
   ]
  },
  {
   "cell_type": "code",
   "execution_count": 6,
   "metadata": {},
   "outputs": [],
   "source": [
    "with io.open('player_names.json', 'w') as fp:\n",
    "    json.dump(player_names, fp)"
   ]
  },
  {
   "cell_type": "code",
   "execution_count": 54,
   "metadata": {},
   "outputs": [],
   "source": [
    "for key in player_names.keys():\n",
    "    if 'shakib' in player_names[key]:\n",
    "        print ('ok')\n",
    "#     print(player_names[key])"
   ]
  },
  {
   "cell_type": "code",
   "execution_count": 21,
   "metadata": {},
   "outputs": [],
   "source": [
    "personal_comm = dict()"
   ]
  },
  {
   "cell_type": "code",
   "execution_count": 22,
   "metadata": {},
   "outputs": [
    {
     "name": "stdout",
     "output_type": "stream",
     "text": [
      "Soumya and Tamim are headed out to the middle as are the South African team.\n",
      "Soumya found\n",
      "Tamim found\n",
      "Tamim will face the first ball.\n",
      "His wrist must be OK. Lungi Ngidi has the new ball.\n",
      "Here we go.\n",
      "10.22am The teams are out on the ground for the anthems.\n",
      "News from the South African camp regarding Hashim Amla's health.\n",
      "Proteas team manager, Dr Mohammed Moosajee explained:  \"Hashim hasn't fully recovered from the blow sustained to the helmet during the match against England on Thursday and is not available for selection for the match today.\n",
      "With the quick turnaround between the two matches, he is being rested as a precaution, based on our post-match re-assessment.\n",
      "We are hopeful that he will make a full recovery to be available for selection for our next match against India.\n"
     ]
    }
   ],
   "source": [
    "import nltk\n",
    "with io.open('player_names.json', 'r') as fp:\n",
    "    players = json.load(fp)\n",
    "for sent in nltk.sent_tokenize(sentence):\n",
    "    print (sent)\n",
    "    for chunk in nltk.ne_chunk(nltk.pos_tag(without_stopwords(nltk.word_tokenize(sent)))):\n",
    "        if hasattr(chunk, 'label') and (chunk.label() == 'PERSON'):\n",
    "            playerFromSent = ' '.join(c[0] for c in chunk)\n",
    "#             print(playerFromSent)\n",
    "            for player in players.keys():\n",
    "                if playerFromSent.lower() in players[player]:\n",
    "                    print (playerFromSent,'found')\n",
    "                    personal_comm.setdefault(player.lower(),[]).append((0,sent))  "
   ]
  },
  {
   "cell_type": "code",
   "execution_count": 26,
   "metadata": {},
   "outputs": [
    {
     "data": {
      "text/plain": [
       "{'soumya sarkar': [(0,\n",
       "   'Soumya and Tamim are headed out to the middle as are the South African team.'),\n",
       "  (5, 'useful comm')],\n",
       " 'tamim iqbal': [(0,\n",
       "   'Soumya and Tamim are headed out to the middle as are the South African team.')]}"
      ]
     },
     "execution_count": 26,
     "metadata": {},
     "output_type": "execute_result"
    }
   ],
   "source": [
    "personal_comm"
   ]
  },
  {
   "cell_type": "code",
   "execution_count": 27,
   "metadata": {},
   "outputs": [
    {
     "ename": "TypeError",
     "evalue": "list indices must be integers or slices, not str",
     "output_type": "error",
     "traceback": [
      "\u001b[0;31m---------------------------------------------------------------------------\u001b[0m",
      "\u001b[0;31mTypeError\u001b[0m                                 Traceback (most recent call last)",
      "\u001b[0;32m<ipython-input-27-1740e2d6318f>\u001b[0m in \u001b[0;36m<module>\u001b[0;34m\u001b[0m\n\u001b[0;32m----> 1\u001b[0;31m \u001b[0;32mdel\u001b[0m \u001b[0mpersonal_comm\u001b[0m\u001b[0;34m[\u001b[0m\u001b[0;34m'soumya sarkar'\u001b[0m\u001b[0;34m]\u001b[0m\u001b[0;34m[\u001b[0m\u001b[0;34m'lalue'\u001b[0m\u001b[0;34m]\u001b[0m\u001b[0;34m\u001b[0m\u001b[0;34m\u001b[0m\u001b[0m\n\u001b[0m",
      "\u001b[0;31mTypeError\u001b[0m: list indices must be integers or slices, not str"
     ]
    }
   ],
   "source": [
    "del personal_comm['soumya sarkar']['lalue']"
   ]
  },
  {
   "cell_type": "code",
   "execution_count": 25,
   "metadata": {},
   "outputs": [],
   "source": [
    "personal_comm.setdefault('soumya sarkar',[]).append((5,\"useful comm\"))"
   ]
  }
 ],
 "metadata": {
  "kernelspec": {
   "display_name": "Python 3",
   "language": "python",
   "name": "python3"
  },
  "language_info": {
   "codemirror_mode": {
    "name": "ipython",
    "version": 3
   },
   "file_extension": ".py",
   "mimetype": "text/x-python",
   "name": "python",
   "nbconvert_exporter": "python",
   "pygments_lexer": "ipython3",
   "version": "3.6.8"
  }
 },
 "nbformat": 4,
 "nbformat_minor": 2
}
