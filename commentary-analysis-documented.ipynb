{
 "cells": [
  {
   "cell_type": "markdown",
   "metadata": {},
   "source": [
    "# Fixing a base directory for all operations"
   ]
  },
  {
   "cell_type": "code",
   "execution_count": 2,
   "metadata": {},
   "outputs": [
    {
     "name": "stdout",
     "output_type": "stream",
     "text": [
      "Getting base directory... Done\n",
      "Setting the base at /mnt/9439c024-e4c1-4178-81f7-44a8e3f2c862/links (git)/commentary-analysis\n"
     ]
    }
   ],
   "source": [
    "import os,json,io\n",
    "print ('Getting base directory... ', end='')\n",
    "base = os.getcwd()\n",
    "print ('Done\\nSetting the base at', base)"
   ]
  },
  {
   "cell_type": "markdown",
   "metadata": {},
   "source": [
    "# Listing all avilable matches in commentary database"
   ]
  },
  {
   "cell_type": "code",
   "execution_count": 3,
   "metadata": {},
   "outputs": [
    {
     "name": "stdout",
     "output_type": "stream",
     "text": [
      "Changing to the commentary db folder/mnt/9439c024-e4c1-4178-81f7-44a8e3f2c862/links (git)/commentary-analysis/commentaries ... Done\n",
      "Collecting all matches in current folder... Done\n"
     ]
    }
   ],
   "source": [
    "from bs4 import BeautifulSoup as bsp\n",
    "print ('Changing to the commentary db folder', end='')\n",
    "os.chdir(os.path.join(base,'commentaries'))\n",
    "print (os.getcwd(),'... Done')\n",
    "\n",
    "print('Collecting all matches in current folder...', end='')\n",
    "matches = [f for f in os.scandir(os.getcwd()) if f.is_dir() and f.name.isdigit()];\n",
    "print(' Done')"
   ]
  },
  {
   "cell_type": "markdown",
   "metadata": {},
   "source": [
    "### These are avilable matches' id.\n",
    "Saving them as DirEntry to use a few feature of this object type"
   ]
  },
  {
   "cell_type": "code",
   "execution_count": 4,
   "metadata": {
    "collapsed": true
   },
   "outputs": [
    {
     "data": {
      "text/plain": [
       "[<DirEntry '1168514'>,\n",
       " <DirEntry '1153252'>,\n",
       " <DirEntry '1130742'>,\n",
       " <DirEntry '1153846'>,\n",
       " <DirEntry '1146721'>,\n",
       " <DirEntry '1168512'>,\n",
       " <DirEntry '1146720'>,\n",
       " <DirEntry '1168513'>,\n",
       " <DirEntry '1153248'>,\n",
       " <DirEntry '1153845'>,\n",
       " <DirEntry '1146722'>,\n",
       " <DirEntry '1153314'>,\n",
       " <DirEntry '1130741'>,\n",
       " <DirEntry '1153635'>,\n",
       " <DirEntry '1153844'>,\n",
       " <DirEntry '1144491'>,\n",
       " <DirEntry '1153254'>,\n",
       " <DirEntry '1130743'>,\n",
       " <DirEntry '1153249'>,\n",
       " <DirEntry '1153255'>,\n",
       " <DirEntry '1130737'>,\n",
       " <DirEntry '1144487'>,\n",
       " <DirEntry '1153636'>,\n",
       " <DirEntry '1153316'>,\n",
       " <DirEntry '1153315'>,\n",
       " <DirEntry '1153637'>,\n",
       " <DirEntry '1130739'>,\n",
       " <DirEntry '1153243'>,\n",
       " <DirEntry '1168509'>]"
      ]
     },
     "execution_count": 4,
     "metadata": {},
     "output_type": "execute_result"
    }
   ],
   "source": [
    "#test\n",
    "matches"
   ]
  },
  {
   "cell_type": "code",
   "execution_count": 5,
   "metadata": {},
   "outputs": [],
   "source": [
    "#putting frequently used text in variable, helpful in IDE's with auto completion\n",
    "t_commentary = 'commentary'\n",
    "t_items = 'items'\n",
    "t_shorttext = 'shortText'\n",
    "t_postText = 'postText'\n",
    "t_text = 'text'\n",
    "t_preText = 'preText'\n",
    "\n",
    "#functions I'll need\n",
    "#-----------------------------------------get_match_details-----------------------------------------------------\n",
    "def get_match_details(match_id):\n",
    "    import requests\n",
    "    r = requests.get(f'http://www.espncricinfo.com/series/engine/match/{match_id}.json')\n",
    "    return r.json()\n",
    "#---------------------------------------------------------------------------------------------------------------\n",
    "def get_required_innings_value(country):\n",
    "    pass\n",
    "    \n",
    "def get_vader_sentence_score(sentence_string):\n",
    "    from vaderSentiment.vaderSentiment import SentimentIntensityAnalyzer\n",
    "\n",
    "    scores = SentimentIntensityAnalyzer()\n",
    "\n",
    "    return scores.polarity_scores(sentence_string)\n",
    "\n",
    "#----------------------------------------------------------------------------------------------------------------------------\n",
    "def get_all_text_fromjsonfile(data):\n",
    "    alltext = ''\n",
    "    bslash = '\\\\'\n",
    "    for item in data[t_commentary][t_items]:\n",
    "        alltext += item[t_preText] + item[t_postText]\n",
    "    return bsp(alltext, 'lxml').text\n",
    "#--------------------------------------------------------------------------------------------------------------------\n",
    "def get_player_score_fromjson(data):\n",
    "    import nltk, io\n",
    "    from nltk.tokenize import sent_tokenize, word_tokenize\n",
    "    from nltk.corpus import stopwords\n",
    "\n",
    "    def without_stopwords(word_list):\n",
    "        stopset = set(stopwords.words('english'))\n",
    "        return [x for x in word_list if x not in stopset]\n",
    "\n",
    "    players = dict()\n",
    "    \n",
    "    with io.open(os.path.join(base,'player_names.json'), 'r') as fp:\n",
    "        players = json.load(fp)\n",
    "#         print('\\n', players,'\\n')\n",
    "        for sent in nltk.sent_tokenize(get_all_text_fromjsonfile(data)):\n",
    "#             print (sent)\n",
    "            for chunk in nltk.ne_chunk(nltk.pos_tag(without_stopwords(nltk.word_tokenize(sent)))):\n",
    "                if hasattr(chunk, 'label') and (chunk.label() == 'PERSON'):\n",
    "                    playerFromSent = ' '.join(c[0] for c in chunk)\n",
    "#                     print(f'\\nworking with {playerFromSent}\\n')\n",
    "                    for player in players.keys():\n",
    "                        if playerFromSent.lower() in players[player]:\n",
    "#                             print (playerFromSent,'found\\n')\n",
    "                            personal_comm.setdefault(player.lower(),[]).append([get_vader_sentence_score(sent)['compound'],sent])\n",
    "    return personal_comm"
   ]
  },
  {
   "cell_type": "markdown",
   "metadata": {},
   "source": [
    "##### We have made a function that evaluates a sentence.  (get_player_score_fromjson)\n",
    "Next, we'll put a candidate sentence through it and get a result\n",
    "### Okay, for simplicity let's work with <i style=\"color : red\">postText</i>, <i style=\"color : red\">preText</i> and give a scoring based on that\n",
    "- For each sentence we find a player's name we shall repeat this process."
   ]
  },
  {
   "cell_type": "markdown",
   "metadata": {},
   "source": [
    "# <span style=\"color:red;\">Let's Begin!</span>"
   ]
  },
  {
   "cell_type": "code",
   "execution_count": null,
   "metadata": {},
   "outputs": [],
   "source": [
    "personal_comm = dict()\n",
    "for match in matches:\n",
    "    os.chdir(match.path);\n",
    "    #match_details = get_match_details(match.name)\n",
    "    print (\"moving to \"+match.path);\n",
    "    innings = [f.path for f in os.scandir(match.path) if f.is_dir()]\n",
    "    for single_innings in innings: #There is two innings in one one day match, we'll iterate foe both of them\n",
    "        os.chdir(single_innings);\n",
    "        print (\"moving to \"+single_innings);\n",
    "        for jsonfile in os.listdir():\n",
    "            if 'comm_part' in jsonfile: #comm_part is a common substring in the filename of json files. this condition prevents other files from hampering file iteration\n",
    "                print(\"opening \" + jsonfile)\n",
    "                with io.open(jsonfile, 'r') as file:\n",
    "                    data = json.load(file)\n",
    "                    get_player_score_fromjson(data) #passing the file contents to the previously written function\n",
    "                    \n",
    "#                     print(metadata)\n",
    "# personal_comm"
   ]
  },
  {
   "cell_type": "code",
   "execution_count": null,
   "metadata": {},
   "outputs": [],
   "source": [
    "match.path #this is random variable checking. nothing important"
   ]
  },
  {
   "cell_type": "markdown",
   "metadata": {},
   "source": [
    "# Next Step\n",
    "#### Create a function that takes in commetary json and spits out a dictionary that contains player names and commentary sentences about them\n",
    "\n",
    "    - have to add the save_player_names to this module"
   ]
  },
  {
   "cell_type": "code",
   "execution_count": null,
   "metadata": {},
   "outputs": [],
   "source": [
    "os.getcwd()"
   ]
  },
  {
   "cell_type": "markdown",
   "metadata": {},
   "source": [
    "### Saving commentary, related player names, and scores for each sentence for that player"
   ]
  },
  {
   "cell_type": "code",
   "execution_count": 7,
   "metadata": {},
   "outputs": [],
   "source": [
    "with open(os.path.join(base,'result-json2.json'), 'w') as fp:\n",
    "    json.dump(personal_comm,fp)"
   ]
  },
  {
   "cell_type": "code",
   "execution_count": null,
   "metadata": {},
   "outputs": [],
   "source": [
    "os.getcwd() #checking which directory I am at right now"
   ]
  },
  {
   "cell_type": "markdown",
   "metadata": {},
   "source": [
    "# Calculating a mean value for each player"
   ]
  },
  {
   "cell_type": "code",
   "execution_count": 8,
   "metadata": {},
   "outputs": [],
   "source": [
    "result = dict()\n",
    "\n",
    "for key in personal_comm.keys():\n",
    "    sumofpoints = 0\n",
    "    for item in personal_comm[key]:\n",
    "        sumofpoints += item[0]\n",
    "#     print (key, sumofpoints, len(personal_comm[key]))\n",
    "    result[key] = sumofpoints/len(personal_comm[key])"
   ]
  },
  {
   "cell_type": "code",
   "execution_count": 9,
   "metadata": {},
   "outputs": [
    {
     "data": {
      "text/plain": [
       "{'mashrafe mortaza': 0.22858319999999988,\n",
       " 'shakib al hasan': 0.08590555555555557,\n",
       " 'liton das': 0.10149651162790697,\n",
       " 'soumya sarkar': 0.15051882352941176,\n",
       " 'mushfiqur rahim': 0.09308783783783783,\n",
       " 'mehidy hasan': 0.1963518518518519,\n",
       " 'rubel hossain': 0.02547333333333333,\n",
       " 'mahmudullah': 0.07007692307692306,\n",
       " 'tamim iqbal': 0.11337163120567378,\n",
       " 'imrul kayes': 0.13948260869565218,\n",
       " 'mohammad mithun': 0.12819142857142862,\n",
       " 'mustafizur rahman': 0.11148928571428572,\n",
       " 'najmul hossain shanto': 0.02205,\n",
       " 'anamul haque': -0.14991333333333337,\n",
       " 'mohammad saifuddin': 0.15109333333333336,\n",
       " 'nasir hossain': -0.016720000000000002,\n",
       " 'taskin ahmed': 0.046271428571428574}"
      ]
     },
     "execution_count": 9,
     "metadata": {},
     "output_type": "execute_result"
    }
   ],
   "source": [
    "result"
   ]
  },
  {
   "cell_type": "markdown",
   "metadata": {},
   "source": [
    "### Sorting the dictionary for comparative player ranking"
   ]
  },
  {
   "cell_type": "code",
   "execution_count": 10,
   "metadata": {},
   "outputs": [],
   "source": [
    "import operator\n",
    "sorted_list = sorted(result.items(), key=operator.itemgetter(1), reverse=True)"
   ]
  },
  {
   "cell_type": "code",
   "execution_count": 11,
   "metadata": {
    "collapsed": true
   },
   "outputs": [
    {
     "data": {
      "text/plain": [
       "dict_keys(['mashrafe mortaza', 'shakib al hasan', 'liton das', 'soumya sarkar', 'mushfiqur rahim', 'mehidy hasan', 'rubel hossain', 'mahmudullah', 'tamim iqbal', 'imrul kayes', 'mohammad mithun', 'mustafizur rahman', 'najmul hossain shanto', 'anamul haque', 'mohammad saifuddin', 'nasir hossain', 'taskin ahmed'])"
      ]
     },
     "execution_count": 11,
     "metadata": {},
     "output_type": "execute_result"
    }
   ],
   "source": [
    "personal_comm.keys()"
   ]
  },
  {
   "cell_type": "code",
   "execution_count": 12,
   "metadata": {},
   "outputs": [
    {
     "data": {
      "text/plain": [
       "[('mashrafe mortaza', 0.22858319999999988),\n",
       " ('mehidy hasan', 0.1963518518518519),\n",
       " ('mohammad saifuddin', 0.15109333333333336),\n",
       " ('soumya sarkar', 0.15051882352941176),\n",
       " ('imrul kayes', 0.13948260869565218),\n",
       " ('mohammad mithun', 0.12819142857142862),\n",
       " ('tamim iqbal', 0.11337163120567378),\n",
       " ('mustafizur rahman', 0.11148928571428572),\n",
       " ('liton das', 0.10149651162790697),\n",
       " ('mushfiqur rahim', 0.09308783783783783),\n",
       " ('shakib al hasan', 0.08590555555555557),\n",
       " ('mahmudullah', 0.07007692307692306),\n",
       " ('taskin ahmed', 0.046271428571428574),\n",
       " ('rubel hossain', 0.02547333333333333),\n",
       " ('najmul hossain shanto', 0.02205),\n",
       " ('nasir hossain', -0.016720000000000002),\n",
       " ('anamul haque', -0.14991333333333337)]"
      ]
     },
     "execution_count": 12,
     "metadata": {},
     "output_type": "execute_result"
    }
   ],
   "source": [
    "sorted_list"
   ]
  },
  {
   "cell_type": "markdown",
   "metadata": {},
   "source": [
    "## Reversing the key-value to value-key"
   ]
  },
  {
   "cell_type": "code",
   "execution_count": 13,
   "metadata": {},
   "outputs": [],
   "source": [
    "newdict = dict()\n",
    "for x,y in sorted_list:\n",
    "    newdict[y] = x"
   ]
  },
  {
   "cell_type": "code",
   "execution_count": 14,
   "metadata": {},
   "outputs": [],
   "source": [
    "val_list = [x for y,x in sorted_list ]"
   ]
  },
  {
   "cell_type": "markdown",
   "metadata": {},
   "source": [
    "##  <span style=\"color : limegreen\">Selected players and their points</span>\n",
    "Printing top eleven player due to their points\n",
    "*val_list already contains a sorted list of points that are assigned to each player*"
   ]
  },
  {
   "cell_type": "code",
   "execution_count": 15,
   "metadata": {},
   "outputs": [
    {
     "name": "stdout",
     "output_type": "stream",
     "text": [
      "mashrafe mortaza 0.22858319999999988\n",
      "mehidy hasan 0.1963518518518519\n",
      "mohammad saifuddin 0.15109333333333336\n",
      "soumya sarkar 0.15051882352941176\n",
      "imrul kayes 0.13948260869565218\n",
      "mohammad mithun 0.12819142857142862\n",
      "tamim iqbal 0.11337163120567378\n",
      "mustafizur rahman 0.11148928571428572\n",
      "liton das 0.10149651162790697\n",
      "mushfiqur rahim 0.09308783783783783\n",
      "shakib al hasan 0.08590555555555557\n"
     ]
    }
   ],
   "source": [
    "for x in val_list[:11]:\n",
    "    print (newdict[x], x)"
   ]
  },
  {
   "cell_type": "code",
   "execution_count": 16,
   "metadata": {},
   "outputs": [],
   "source": [
    "base_db = os.path.join(base, 'commentaries')"
   ]
  },
  {
   "cell_type": "markdown",
   "metadata": {},
   "source": [
    "# Let's check if the results are accurate or not\n",
    "### At first let's make lists of 5 matches, 10 matches, 20 matches"
   ]
  },
  {
   "cell_type": "code",
   "execution_count": 17,
   "metadata": {},
   "outputs": [],
   "source": [
    "match_5 = ['1168512','1168513','1168514', '1144487', '1168509']\n",
    "match_10 = ['1168512','1168513','1168514', '1144487', '1168509', '1153844', '1153845', '1153846', '1153316', '1153315']\n",
    "match_20 = ['1168512','1168513','1168514', '1144487', '1168509', '1153844', '1153845', '1153846', '1153316', '1153315', '1153314', '1153635', '1153636', '1153637', '1153255', '1153254', '1153252', '1153249', '1153248', '1153243']"
   ]
  },
  {
   "cell_type": "markdown",
   "metadata": {},
   "source": [
    "**Following three cells just prepare folder location of relevent number of matches for accuracy testing**"
   ]
  },
  {
   "cell_type": "code",
   "execution_count": 18,
   "metadata": {},
   "outputs": [],
   "source": [
    "match_20_dir = []\n",
    "for ent in match_20:\n",
    "    match_20_dir.append(os.path.join(base_db, ent))\n",
    "   "
   ]
  },
  {
   "cell_type": "code",
   "execution_count": 19,
   "metadata": {},
   "outputs": [],
   "source": [
    "match_10_dir = []\n",
    "for ent in match_10:\n",
    "    match_10_dir.append(os.path.join(base_db, ent))\n",
    "   "
   ]
  },
  {
   "cell_type": "code",
   "execution_count": 20,
   "metadata": {},
   "outputs": [],
   "source": [
    "match_5_dir = []\n",
    "for ent in match_5:\n",
    "    match_5_dir.append(os.path.join(base_db, ent))\n",
    "   "
   ]
  },
  {
   "cell_type": "code",
   "execution_count": 21,
   "metadata": {},
   "outputs": [],
   "source": [
    "os.chdir(base)"
   ]
  },
  {
   "cell_type": "code",
   "execution_count": 22,
   "metadata": {
    "scrolled": true
   },
   "outputs": [
    {
     "data": {
      "text/plain": [
       "['/mnt/9439c024-e4c1-4178-81f7-44a8e3f2c862/links (git)/commentary-analysis/commentaries/1168512',\n",
       " '/mnt/9439c024-e4c1-4178-81f7-44a8e3f2c862/links (git)/commentary-analysis/commentaries/1168513',\n",
       " '/mnt/9439c024-e4c1-4178-81f7-44a8e3f2c862/links (git)/commentary-analysis/commentaries/1168514',\n",
       " '/mnt/9439c024-e4c1-4178-81f7-44a8e3f2c862/links (git)/commentary-analysis/commentaries/1144487',\n",
       " '/mnt/9439c024-e4c1-4178-81f7-44a8e3f2c862/links (git)/commentary-analysis/commentaries/1168509',\n",
       " '/mnt/9439c024-e4c1-4178-81f7-44a8e3f2c862/links (git)/commentary-analysis/commentaries/1153844',\n",
       " '/mnt/9439c024-e4c1-4178-81f7-44a8e3f2c862/links (git)/commentary-analysis/commentaries/1153845',\n",
       " '/mnt/9439c024-e4c1-4178-81f7-44a8e3f2c862/links (git)/commentary-analysis/commentaries/1153846',\n",
       " '/mnt/9439c024-e4c1-4178-81f7-44a8e3f2c862/links (git)/commentary-analysis/commentaries/1153316',\n",
       " '/mnt/9439c024-e4c1-4178-81f7-44a8e3f2c862/links (git)/commentary-analysis/commentaries/1153315']"
      ]
     },
     "execution_count": 22,
     "metadata": {},
     "output_type": "execute_result"
    }
   ],
   "source": [
    "match_10_dir\n"
   ]
  },
  {
   "cell_type": "markdown",
   "metadata": {},
   "source": [
    "### We'll check for a five match squad prediction and compare it with 6th match's squad"
   ]
  },
  {
   "cell_type": "code",
   "execution_count": null,
   "metadata": {
    "scrolled": false
   },
   "outputs": [],
   "source": [
    "personal_comm = dict()\n",
    "for match in match_5_dir:\n",
    "    os.chdir(match);\n",
    "    #match_details = get_match_details(match.name)\n",
    "    print (\"moving to \"+match);\n",
    "    innings = [f.path for f in os.scandir(match) if f.is_dir()]\n",
    "    for single_innings in innings:\n",
    "        os.chdir(single_innings);\n",
    "        print (\"moving to \"+single_innings);\n",
    "        for jsonfile in os.listdir():\n",
    "            if 'comm_part' in jsonfile:\n",
    "                print(\"opening \" + jsonfile)\n",
    "                with io.open(jsonfile, 'r') as file:\n",
    "                    data = json.load(file)\n",
    "                    get_player_score_fromjson(data)\n",
    "                    \n",
    "#                     print(metadata)\n",
    "personal_comm"
   ]
  },
  {
   "cell_type": "code",
   "execution_count": 24,
   "metadata": {},
   "outputs": [],
   "source": [
    "result = dict()\n",
    "# sumofpoints = 0\n",
    "for key in personal_comm.keys():\n",
    "    sumofpoints = 0\n",
    "    for item in personal_comm[key]:\n",
    "        sumofpoints += item[0]\n",
    "#     print (key, sumofpoints, len(personal_comm[key]))\n",
    "    result[key] = sumofpoints/len(personal_comm[key])"
   ]
  },
  {
   "cell_type": "code",
   "execution_count": 25,
   "metadata": {},
   "outputs": [],
   "source": [
    "import operator\n",
    "sorted_list = sorted(result.items(), key=operator.itemgetter(1), reverse=True)"
   ]
  },
  {
   "cell_type": "code",
   "execution_count": 26,
   "metadata": {},
   "outputs": [],
   "source": [
    "newdict = dict()\n",
    "for x,y in sorted_list:\n",
    "    newdict[y] = x"
   ]
  },
  {
   "cell_type": "code",
   "execution_count": 27,
   "metadata": {},
   "outputs": [],
   "source": [
    "val_list = [x for y,x in sorted_list ]"
   ]
  },
  {
   "cell_type": "markdown",
   "metadata": {},
   "source": [
    "## Selected players and their points <span style=\"color : darkblue\"> for 5 matches</span>"
   ]
  },
  {
   "cell_type": "code",
   "execution_count": 28,
   "metadata": {},
   "outputs": [
    {
     "name": "stdout",
     "output_type": "stream",
     "text": [
      "liton das 0.3019090909090909\n",
      "mashrafe mortaza 0.29534400000000005\n",
      "mehidy hasan 0.16267\n",
      "mahmudullah 0.128575\n",
      "najmul hossain shanto 0.128\n",
      "shakib al hasan 0.1208655172413793\n",
      "mushfiqur rahim 0.09572142857142855\n",
      "tamim iqbal 0.05196190476190475\n",
      "taskin ahmed 0.046271428571428574\n",
      "mohammad saifuddin 0.04349999999999998\n",
      "mustafizur rahman 0.030355555555555556\n"
     ]
    }
   ],
   "source": [
    "for x in val_list[:11]:\n",
    "    print (newdict[x], x)"
   ]
  },
  {
   "cell_type": "markdown",
   "metadata": {},
   "source": [
    "### We'll check for a ten match squad prediction and compare it with 11th match's squad"
   ]
  },
  {
   "cell_type": "code",
   "execution_count": null,
   "metadata": {
    "scrolled": true
   },
   "outputs": [],
   "source": [
    "personal_comm = dict()\n",
    "for match in match_10_dir:\n",
    "    os.chdir(match);\n",
    "    #match_details = get_match_details(match.name)\n",
    "    print (\"moving to \"+match);\n",
    "    innings = [f.path for f in os.scandir(match) if f.is_dir()]\n",
    "    for single_innings in innings:\n",
    "        os.chdir(single_innings);\n",
    "        print (\"moving to \"+single_innings);\n",
    "        for jsonfile in os.listdir():\n",
    "            if 'comm_part' in jsonfile:\n",
    "                print(\"opening \" + jsonfile)\n",
    "                with io.open(jsonfile, 'r') as file:\n",
    "                    data = json.load(file)\n",
    "                    get_player_score_fromjson(data)\n",
    "                    \n",
    "#                     print(metadata)\n",
    "personal_comm"
   ]
  },
  {
   "cell_type": "code",
   "execution_count": 30,
   "metadata": {},
   "outputs": [],
   "source": [
    "result = dict()\n",
    "# sumofpoints = 0\n",
    "for key in personal_comm.keys():\n",
    "    sumofpoints = 0\n",
    "    for item in personal_comm[key]:\n",
    "        sumofpoints += item[0]\n",
    "#     print (key, sumofpoints, len(personal_comm[key]))\n",
    "    result[key] = sumofpoints/len(personal_comm[key])"
   ]
  },
  {
   "cell_type": "code",
   "execution_count": 31,
   "metadata": {},
   "outputs": [],
   "source": [
    "import operator\n",
    "sorted_list = sorted(result.items(), key=operator.itemgetter(1), reverse=True)"
   ]
  },
  {
   "cell_type": "code",
   "execution_count": 32,
   "metadata": {},
   "outputs": [],
   "source": [
    "newdict = dict()\n",
    "for x,y in sorted_list:\n",
    "    newdict[y] = x"
   ]
  },
  {
   "cell_type": "code",
   "execution_count": 33,
   "metadata": {},
   "outputs": [],
   "source": [
    "val_list = [x for y,x in sorted_list ]"
   ]
  },
  {
   "cell_type": "markdown",
   "metadata": {},
   "source": [
    "## Selected players and their points <span style=\"color : darkblue\"> for 10 matches</span>"
   ]
  },
  {
   "cell_type": "code",
   "execution_count": 34,
   "metadata": {
    "scrolled": true
   },
   "outputs": [
    {
     "name": "stdout",
     "output_type": "stream",
     "text": [
      "mashrafe mortaza 0.19364565217391305\n",
      "mohammad mithun 0.15626666666666666\n",
      "mohammad saifuddin 0.1513875\n",
      "mehidy hasan 0.14847200000000002\n",
      "liton das 0.13023846153846153\n",
      "najmul hossain shanto 0.128\n",
      "soumya sarkar 0.11219130434782607\n",
      "rubel hossain 0.10597368421052632\n",
      "imrul kayes 0.09156666666666667\n",
      "tamim iqbal 0.08879999999999999\n",
      "shakib al hasan 0.05472954545454545\n"
     ]
    }
   ],
   "source": [
    "for x in val_list[:11]:\n",
    "    print (newdict[x], x)"
   ]
  },
  {
   "cell_type": "markdown",
   "metadata": {},
   "source": [
    "### We'll check for a twenty match squad prediction and compare it with 21st match's squad"
   ]
  },
  {
   "cell_type": "code",
   "execution_count": null,
   "metadata": {
    "scrolled": true
   },
   "outputs": [],
   "source": [
    "personal_comm = dict()\n",
    "for match in match_20_dir:\n",
    "    os.chdir(match);\n",
    "    #match_details = get_match_details(match.name)\n",
    "    print (\"moving to \"+match);\n",
    "    innings = [f.path for f in os.scandir(match) if f.is_dir()]\n",
    "    for single_innings in innings:\n",
    "        os.chdir(single_innings);\n",
    "        print (\"moving to \"+single_innings);\n",
    "        for jsonfile in os.listdir():\n",
    "            if 'comm_part' in jsonfile:\n",
    "                print(\"opening \" + jsonfile)\n",
    "                with io.open(jsonfile, 'r') as file:\n",
    "                    data = json.load(file)\n",
    "                    get_player_score_fromjson(data)\n",
    "                    \n",
    "#                     print(metadata)\n",
    "personal_comm"
   ]
  },
  {
   "cell_type": "code",
   "execution_count": 36,
   "metadata": {},
   "outputs": [],
   "source": [
    "result = dict()\n",
    "# sumofpoints = 0\n",
    "for key in personal_comm.keys():\n",
    "    sumofpoints = 0\n",
    "    for item in personal_comm[key]:\n",
    "        sumofpoints += item[0]\n",
    "#     print (key, sumofpoints, len(personal_comm[key]))\n",
    "    result[key] = sumofpoints/len(personal_comm[key])"
   ]
  },
  {
   "cell_type": "code",
   "execution_count": 37,
   "metadata": {},
   "outputs": [],
   "source": [
    "import operator\n",
    "sorted_list = sorted(result.items(), key=operator.itemgetter(1), reverse=True)"
   ]
  },
  {
   "cell_type": "code",
   "execution_count": 38,
   "metadata": {},
   "outputs": [],
   "source": [
    "newdict = dict()\n",
    "for x,y in sorted_list:\n",
    "    newdict[y] = x"
   ]
  },
  {
   "cell_type": "code",
   "execution_count": 39,
   "metadata": {},
   "outputs": [],
   "source": [
    "val_list = [x for y,x in sorted_list ]"
   ]
  },
  {
   "cell_type": "markdown",
   "metadata": {},
   "source": [
    "## Selected players and their points <span style=\"color : darkblue\"> for 20 matches</span>"
   ]
  },
  {
   "cell_type": "code",
   "execution_count": 40,
   "metadata": {},
   "outputs": [
    {
     "name": "stdout",
     "output_type": "stream",
     "text": [
      "mohammad saifuddin 0.19967692307692309\n",
      "mashrafe mortaza 0.18356847826086953\n",
      "mehidy hasan 0.15923958333333335\n",
      "imrul kayes 0.13530298507462693\n",
      "soumya sarkar 0.13002125\n",
      "mohammad mithun 0.12362258064516132\n",
      "liton das 0.11136666666666668\n",
      "mushfiqur rahim 0.09877460317460317\n",
      "tamim iqbal 0.06810204081632654\n",
      "mahmudullah 0.06521333333333333\n",
      "mustafizur rahman 0.05910400000000001\n"
     ]
    }
   ],
   "source": [
    "for x in val_list[:11]:\n",
    "    print (newdict[x], x)"
   ]
  },
  {
   "cell_type": "code",
   "execution_count": 41,
   "metadata": {},
   "outputs": [
    {
     "data": {
      "text/plain": [
       "[[0.0, 'Imrul Kayes 4.'],\n",
       " [0.6124,\n",
       "  'Shahin Newaz: \"Saifuddin is a poor change in place of rubel... Rubel has the knack of bowling quick in a good length on a consistent basis where as saifuddin is more of a change of pace bowler...\"\\n\\nSazedur Rahman: \"I would love to see Mithun instead of Imrul, and Saifuddin instead of Rubel.'],\n",
       " [0.0,\n",
       "  'Mohammad Mithun comes in for Imrul Kayes, and Mohammad Saifuddin replaces Rubel Hossain.'],\n",
       " [-0.4215,\n",
       "  'Imrul Kayes brought back to rescue us in the Asia Cup, scored 328 runs in 3 innings against Zimbabwe and then suddenly 2 failures and he is back out.'],\n",
       " [-0.4215,\n",
       "  'Imrul Kayes brought back to rescue us in the Asia Cup, scored 328 runs in 3 innings against Zimbabwe and then suddenly 2 failures and he is back out.'],\n",
       " [0.8622,\n",
       "  'Reem Rahim: \"I think BD management Took a great decision to left out Imrul kayes.They brought back Soumya Sarkar at 3 which is a great decision and Sarkar is always Agressive in those opening and Number 3 position..Keeping in mind that World Cup will be in Bouncy pitches..Imrul have less amount of Shots in is hands..Despite Scoring 349 Vs Zim i think this is a good decision!'],\n",
       " [0.0,\n",
       "  'Here is Mashrafe.Sumanth: \"Imrul Kayes is few of the technically sound batsmen Bangla has got.'],\n",
       " [-0.3182,\n",
       "  'They reminds me the time when Imrul Kayes & Junayed Siddique fought for the opening slot with Tamim.'],\n",
       " [0.119,\n",
       "  '\"Dipu: \"\"\"Lewis\"\" you helped us to take the wicket of Bravo..\"Raash: \"@Sumanth, Soumya hasn\\'t played half of the Imrul\\'s ODI, still he has bettter average and strike rate, both of them have 4 MOM awards.'],\n",
       " [-0.1027,\n",
       "  'Nasrin A Poly: \"@ Hemant @,,,,,,the live tv commentators shows the list of highest run makers of 3 match odi series it is strange to see Imrul Kayes not in the list, he made 349 runs in 3 odi series aganist Zim, 144,90,115. he should have take the 2nd place of the list\" -- Didn\\'t see the list but you are rightOver to Saurabh for the next ten oversThanks again Hemant.'],\n",
       " [0.4588,\n",
       "  'Bangladesh: 1 Tamim Iqbal, 2 Liton Das, 3 Imrul Kayes, 4 Soumya Sarkar, 5 Mushfiqur Rahim (wk), 6 Shakib Al Hasan, 7 Mahmudullah, 8 Mehidy Hasan Miraz, 9 Mashrafe Mortaza (capt), 10 Mustafizur Rahman, 11 Rubel Hossain\\n\\n12.08pm Hello and welcome to the second ODI between Bangladesh and West Indies.'],\n",
       " [0.3103,\n",
       "  'Liton has been taken away for scans on his right footRifat: \"To be honest I think Imrul can\\'t play pace well...'],\n",
       " [0.4404,\n",
       "  'Bangladesh: 1 Tamim Iqbal, 2 Liton Das, 3 Imrul Kayes, 4 Soumya Sarkar, 5 Mushfiqur Rahim (wk), 6 Shakib Al Hasan, 7 Mahmudullah, 8 Mehidy Hasan Miraz, 9 Mashrafe Mortaza (capt), 10 Mustafizur Rahman, 11 Rubel Hossain\\n\\nWest Indies: 1 Kieran Powell, 2 Shai Hope (wk), 3 Darren Bravo, 4 Marlon Samuels, 5 Shimron Hetmyer, 6 Rovman Powell (capt), 7 Roston Chase, 8 Keemo Paul, 9 Devendra Bishoo, 10 Kemar Roach, 11 Oshane Thomas\\n\\nBangladesh have made five changes to their side, bringing in Shakib Al Hasan, Tamim Iqbal, Mustafizur Rahman, Mehidy Hasan Miraz and Rubel Hossain.'],\n",
       " [0.0, \"He'll be joined by Imrul Kayes.\"],\n",
       " [0.0, 'Imrul Kayes and Liton Das to open, Kyle Jarvis has the new ball.'],\n",
       " [0.0, 'RAKIB HASAN: \"This is the real stage to prove himself for Imrul.'],\n",
       " [0.4019,\n",
       "  'As an allrounder Saifuddin needs to step up and give support to Imrul.\"'],\n",
       " [-0.7351,\n",
       "  'Imrul brought up his third ODI ton off 118 balls before launching an all out attack.'],\n",
       " [-0.3182,\n",
       "  '\"Ron: \"Am I the only one confused about Imrul\\'s role in the team?'],\n",
       " [0.7351,\n",
       "  'Abdullah: \"Pretty obvious from the celebration that Kayes dedicated the century to his newborn child.'],\n",
       " [0.6369,\n",
       "  '\"Ajeet Singh: \"Imrul Kayes surpasses his previous best of 112 runs.'],\n",
       " [0.7351,\n",
       "  '-- He injured his hand during the Asia CupSonal Trivedi: \"Mehidy Hasan Miraz c †Taylor b Jarvis jinxed Khan\"\\n\\nTasmeem: \"Imrul needs to play a blinder like Hetmyer is playing for West Indies.'],\n",
       " [0.0, \"Something seems to have entered Imrul's eye.\"],\n",
       " [0.6249,\n",
       "  'Imrul Kayes played the innings of his life to make 144, and with support from Saifuddin haled them past 270.'],\n",
       " [0.6249,\n",
       "  'Imrul Kayes played the innings of his life to make 144, and with support from Saifuddin haled them past 270.'],\n",
       " [0.0, 'Imrul Kayes is the Man of the Match for his 144.'],\n",
       " [0.5994,\n",
       "  'Zeeshan Mahmud: \"Sensing Kayes double, I have exclusively made myself an Odyssian pact not to watch the match rather in a blissful zen mood follow commentary here at 1:25 am.\"'],\n",
       " [0.6319, \"Let's hope Kayes doesn't disappoint.\"],\n",
       " [-0.5106,\n",
       "  'Bangladesh wriggled out of trouble courtesy a sublime Imrul Kayes century two nights ago.'],\n",
       " [0.4019, '\"Mujahid Rahman: \"I support both Liton & Kayes.'],\n",
       " [0.4767,\n",
       "  '\"Jai: \"I believe Liton will most likely open with Tamim, but Imrul will certainly be in the starting XI, or atleast in the squad.'],\n",
       " [0.4939,\n",
       "  'Mahneel Musa: \"@Jai, \\'Mahmud\\' almost made me think you want Mahmudullah out of the XI, our only back to back world cup centurion, the man for the big occasion \"It\\'s been 28 deliveries since the last boundary.Tushar: \"Liton has improved his game so far while Imrul has been in good form.'],\n",
       " [0.0, '\"Imrul Kayes, by the way, has brought up 300 runs for the series.'],\n",
       " [0.0,\n",
       "  '-- Eight innings, SusamEver-watchful Mohammad Isam just pinged me this: Imrul Kayes now has the most runs in a three-match ODI series for Bangladesh, crossing Tamim Iqbal\\'s 312 v Pakistan in 2015.Adnan mahmud: \"These two batsmen are literally muscling the game away from Zimbabwe.'],\n",
       " [0.0,\n",
       "  \"Soumya and Imrul have added 187Another gem from Isam: This is Bangladesh's second highest score after 25 overs in an ODI.\"],\n",
       " [0.0,\n",
       "  '-- Mahmud has got the calculations doneJamal: \"At the rate Soumya is scoring, I don\\'t think Kayes will get 127!!\"'],\n",
       " [0.0, 'My choice: Tamim & Kayes at the opening.'],\n",
       " [0.0, 'Imrul kayes is Man of the Series.'],\n",
       " [0.5719, 'Soumya and Imrul played with lot of calm.'],\n",
       " [0.4019, 'We want Kayes to play.'],\n",
       " [0.3612,\n",
       "  '-- I can remember Brendon McCullum and Mark Boucher having done it a few times tooSid: \"I feel like Imrul Kayes has been very unlucky.'],\n",
       " [0.0, 'And Kayes is called back again.'],\n",
       " [0.0,\n",
       "  '\"Jinder: \"Barring form, the World Cup XI at the moment would be Tamim, Liton, Imrul, Mushfiqur, Shakib, Mahmudullah, Mehidy, Mashrafe, Nazmul, Mustafiz, Rubel.'],\n",
       " [-0.1027,\n",
       "  '-- His last 50-plus score was against Ireland in 2017Around the wicketTrihan: \"Bangladesh should stick to Soumya and try to tune him up well before the world cup and keep Imrul in the team too even if he plays a couple of bad games.'],\n",
       " [0.4588,\n",
       "  '\"Shafayet: \"Now Kayes got the chance to make 127\"\\n\\nZahid: \"maybe with sarkar gone, Imrul got a real chance to break babar\\'s record?\"'],\n",
       " [0.4588,\n",
       "  '\"Shafayet: \"Now Kayes got the chance to make 127\"\\n\\nZahid: \"maybe with sarkar gone, Imrul got a real chance to break babar\\'s record?\"'],\n",
       " [0.0,\n",
       "  'Bangladesh: Liton Das, Soumya Sarkar, Mohammad Mithun, Mushfiqur Rahim (wk), Imrul Kayes, Mahmudullah, Mehidy Hasan, Mashrafe Mortaza (capt.'],\n",
       " [-0.3612,\n",
       "  'Imrul Kayes in at 3\\n\\nShashank from Dubai: \"Would\\'ve been surprised if it wasn\\'t anything but absolute lack of pace that got Jadhav a wicket.'],\n",
       " [-0.3724,\n",
       "  'Pakistan: Fakhar Zaman, Imam Ul Haq, Babar Azam, Sarfraz Ahmed (c, wk), Shoaib Malik, Asif Ali, Shadab Khan, Mohammad Nawaz, Hasan Ali, Junaid Khan, Shaheen Shah Afridi\\n\\nBangladesh: Liton Das, Soumya Sarkar, Mohammad Mithun, Mushfiqur Rahim (wk), Mominul Haque, Imrul Kayes, Mahmudullah, Mashrafe Mortaza (c), Mehidy Hasan, Rubel Hossain, Mustafizur Rahman\\n\\nInteser: \"Shakib not playing is a huge blow.'],\n",
       " [-0.296, 'Imrul Kayes at No.'],\n",
       " [-0.5362,\n",
       "  'Gotta restart.Anand: \"Is Kayes the right batsman to come out now ??'],\n",
       " [-0.1531, 'Never saw Kayes as a aggressive batsman.'],\n",
       " [-0.3412, \"-- Think Kayes isn't as good a finisher.\"],\n",
       " [0.0,\n",
       "  'Both BD selectors and fans are incredibly impatient\"Inteser: \"Is Imrul Kayes going to open or is he going to slot in the middle order?'],\n",
       " [0.0,\n",
       "  'Bangladesh XI: Liton Das, Nazmul Shanto, Shakib Al Hasan, Mushfiqur Rahim (wk), Mahmudullah, Imrul Kayes, Mohammad Mithun, Mahsrafe Mortaza (capt.'],\n",
       " [0.0, 'Imrul and Shomay will be the right changes for Bangladesh\"Md.'],\n",
       " [0.0,\n",
       "  'Tasmeem: \"If you compare the average, you will find that Imrul has a decent average as an opener.'],\n",
       " [0.34, \"Me and Imrul just played it ball by ball, we didn't rush much.\"],\n",
       " [0.5994,\n",
       "  'Mahmudullah and Kayes were magnificent after some hara-kiri had reduced Bangladesh to 87 for 5.'],\n",
       " [0.891,\n",
       "  '\"We\\'ve dug up the laws on the use of the arm in the run-out for you:\\n\\n29.1.1.5 by a fielder with his/her hand or arm, providing that the ball is held in the hand or hands so used, or in the hand of the arm so used.Gnanaguru: \"Kayes had entered the team after a long gap... That would have created the communication gap with Mushi\"Ibrahim: \"This is not why I wake up at 6 in the morning on a Sunday.'],\n",
       " [0.6597,\n",
       "  'Nayeem: \"Heroic knock from Kayes who just flew from Dhaka about 12 hours ago and playing a match.'],\n",
       " [0.4939,\n",
       "  'Tasmeem: \"I\\'ve always thought Imrul has what it takes to succeed in the International arena.'],\n",
       " [-0.2732,\n",
       "  \"If Imrul's performance is compared with Liton's, Shoumya's or even with Sabbir's performance for last 3/4 years, I don't find any reason to drop him off now and then.\"],\n",
       " [-0.2263,\n",
       "  \"If Imrul fails for 2 matches straight, the next match he is off the team, which didn't happen for those players mentioned.\"],\n",
       " [0.1531,\n",
       "  '\"Atiq: \"No disrespect to anyone commenting, but a specialist batsman such as Kayes is expected to play responsibly.'],\n",
       " [0.0,\n",
       "  'Mahmudullah, Imrul Kayes, Mashrafe and Mustafiz have got in their way.'],\n",
       " [0.0,\n",
       "  'Shoumya, Sabbir, Imrul, Anamul, Liton, Shanto all of them were the logical picks for the national team.']]"
      ]
     },
     "execution_count": 41,
     "metadata": {},
     "output_type": "execute_result"
    }
   ],
   "source": [
    "personal_comm['imrul kayes']"
   ]
  }
 ],
 "metadata": {
  "kernelspec": {
   "display_name": "Python 3",
   "language": "python",
   "name": "python3"
  },
  "language_info": {
   "codemirror_mode": {
    "name": "ipython",
    "version": 3
   },
   "file_extension": ".py",
   "mimetype": "text/x-python",
   "name": "python",
   "nbconvert_exporter": "python",
   "pygments_lexer": "ipython3",
   "version": "3.6.8"
  }
 },
 "nbformat": 4,
 "nbformat_minor": 2
}
