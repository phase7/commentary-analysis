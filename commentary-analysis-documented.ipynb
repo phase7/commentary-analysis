{
  "cells": [
    {
      "metadata": {},
      "cell_type": "markdown",
      "source": "# Fixing a base directory for all operations"
    },
    {
      "metadata": {
        "trusted": true
      },
      "cell_type": "code",
      "source": "!pip install bs4 nltk numpy vaderSentiment",
      "execution_count": 2,
      "outputs": [
        {
          "output_type": "stream",
          "text": "Requirement already satisfied: bs4 in /srv/conda/envs/notebook/lib/python3.7/site-packages (0.0.1)\nRequirement already satisfied: nltk in /srv/conda/envs/notebook/lib/python3.7/site-packages (3.6.2)\nRequirement already satisfied: numpy in /srv/conda/envs/notebook/lib/python3.7/site-packages (1.21.1)\nRequirement already satisfied: vaderSentiment in /srv/conda/envs/notebook/lib/python3.7/site-packages (3.3.2)\nRequirement already satisfied: beautifulsoup4 in /srv/conda/envs/notebook/lib/python3.7/site-packages (from bs4) (4.9.3)\nRequirement already satisfied: regex in /srv/conda/envs/notebook/lib/python3.7/site-packages (from nltk) (2021.8.3)\nRequirement already satisfied: tqdm in /srv/conda/envs/notebook/lib/python3.7/site-packages (from nltk) (4.62.0)\nRequirement already satisfied: click in /srv/conda/envs/notebook/lib/python3.7/site-packages (from nltk) (8.0.1)\nRequirement already satisfied: joblib in /srv/conda/envs/notebook/lib/python3.7/site-packages (from nltk) (1.0.1)\nRequirement already satisfied: requests in /srv/conda/envs/notebook/lib/python3.7/site-packages (from vaderSentiment) (2.25.1)\nRequirement already satisfied: soupsieve>1.2 in /srv/conda/envs/notebook/lib/python3.7/site-packages (from beautifulsoup4->bs4) (2.2.1)\nRequirement already satisfied: importlib-metadata in /srv/conda/envs/notebook/lib/python3.7/site-packages (from click->nltk) (3.7.0)\nRequirement already satisfied: zipp>=0.5 in /srv/conda/envs/notebook/lib/python3.7/site-packages (from importlib-metadata->click->nltk) (3.4.0)\nRequirement already satisfied: typing-extensions>=3.6.4 in /srv/conda/envs/notebook/lib/python3.7/site-packages (from importlib-metadata->click->nltk) (3.7.4.3)\nRequirement already satisfied: idna<3,>=2.5 in /srv/conda/envs/notebook/lib/python3.7/site-packages (from requests->vaderSentiment) (2.10)\nRequirement already satisfied: urllib3<1.27,>=1.21.1 in /srv/conda/envs/notebook/lib/python3.7/site-packages (from requests->vaderSentiment) (1.26.3)\nRequirement already satisfied: chardet<5,>=3.0.2 in /srv/conda/envs/notebook/lib/python3.7/site-packages (from requests->vaderSentiment) (4.0.0)\nRequirement already satisfied: certifi>=2017.4.17 in /srv/conda/envs/notebook/lib/python3.7/site-packages (from requests->vaderSentiment) (2020.12.5)\n",
          "name": "stdout"
        }
      ]
    },
    {
      "metadata": {
        "trusted": true
      },
      "cell_type": "code",
      "source": "import os,json,io\nprint ('Getting base directory... ', end='')\nbase = os.getcwd()\nprint ('Done\\nSetting the base at', base)",
      "execution_count": 3,
      "outputs": [
        {
          "output_type": "stream",
          "text": "Getting base directory... Done\nSetting the base at /home/jovyan\n",
          "name": "stdout"
        }
      ]
    },
    {
      "metadata": {},
      "cell_type": "markdown",
      "source": "# Listing all avilable matches in commentary database"
    },
    {
      "metadata": {
        "trusted": true
      },
      "cell_type": "code",
      "source": "from bs4 import BeautifulSoup as bsp\nprint ('Changing to the commentary db folder', end='')\nos.chdir(os.path.join(base,'commentaries'))\nprint (os.getcwd(),'... Done')\n\nprint('Collecting all matches in current folder...', end='')\nmatches = [f for f in os.scandir(os.getcwd()) if f.is_dir() and f.name.isdigit()];\nprint(' Done')",
      "execution_count": 4,
      "outputs": [
        {
          "output_type": "stream",
          "text": "Changing to the commentary db folder/home/jovyan/commentaries ... Done\nCollecting all matches in current folder... Done\n",
          "name": "stdout"
        }
      ]
    },
    {
      "metadata": {},
      "cell_type": "markdown",
      "source": "### These are avilable matches' id.\nSaving them as DirEntry to use a few feature of this object type"
    },
    {
      "metadata": {
        "trusted": true
      },
      "cell_type": "code",
      "source": "#test\nmatches",
      "execution_count": 5,
      "outputs": [
        {
          "output_type": "execute_result",
          "execution_count": 5,
          "data": {
            "text/plain": "[<DirEntry '1153635'>,\n <DirEntry '1146722'>,\n <DirEntry '1153636'>,\n <DirEntry '1144487'>,\n <DirEntry '1153316'>,\n <DirEntry '1153315'>,\n <DirEntry '1146721'>,\n <DirEntry '1130741'>,\n <DirEntry '1153255'>,\n <DirEntry '1130737'>,\n <DirEntry '1130739'>,\n <DirEntry '1153637'>,\n <DirEntry '1153252'>,\n <DirEntry '1146720'>,\n <DirEntry '1153254'>,\n <DirEntry '1130743'>,\n <DirEntry '1168514'>,\n <DirEntry '1130742'>,\n <DirEntry '1168509'>,\n <DirEntry '1153314'>,\n <DirEntry '1144491'>,\n <DirEntry '1168513'>,\n <DirEntry '1153248'>,\n <DirEntry '1168512'>,\n <DirEntry '1153243'>,\n <DirEntry '1153846'>,\n <DirEntry '1153845'>,\n <DirEntry '1153844'>,\n <DirEntry '1153249'>]"
          },
          "metadata": {}
        }
      ]
    },
    {
      "metadata": {
        "trusted": true
      },
      "cell_type": "code",
      "source": "total_commentary = 0\ntotal_sent = 0",
      "execution_count": 6,
      "outputs": []
    },
    {
      "metadata": {
        "trusted": true
      },
      "cell_type": "code",
      "source": "#putting frequently used text in variable, helpful in IDE's with auto completion\nt_commentary = 'commentary'\nt_items = 'items'\nt_shorttext = 'shortText'\nt_postText = 'postText'\nt_text = 'text'\nt_preText = 'preText'\n\n#functions I'll need\n#-----------------------------------------get_match_details-----------------------------------------------------\ndef get_match_details(match_id):\n    import requests\n    r = requests.get(f'http://www.espncricinfo.com/series/engine/match/{match_id}.json')\n    return r.json()\n#---------------------------------------------------------------------------------------------------------------\ndef get_required_innings_value(country):\n    pass\n    \ndef get_vader_sentence_score(sentence_string):\n    from vaderSentiment.vaderSentiment import SentimentIntensityAnalyzer\n\n    scores = SentimentIntensityAnalyzer()\n\n    return scores.polarity_scores(sentence_string)\n\n#----------------------------------------------------------------------------------------------------------------------------\ndef get_all_text_fromjsonfile(data):\n    global total_commentary\n    alltext = ''\n    bslash = '\\\\'\n    for item in data[t_commentary][t_items]:\n        total_commentary += 1\n        alltext += item[t_preText] + item[t_postText]\n    return bsp(alltext, 'html.parser').text\n#--------------------------------------------------------------------------------------------------------------------\ndef get_player_score_fromjson(data):\n    import nltk, io\n    from nltk.tokenize import sent_tokenize, word_tokenize\n    from nltk.corpus import stopwords\n\n    def without_stopwords(word_list):\n        stopset = set(stopwords.words('english'))\n        return [x for x in word_list if x not in stopset]\n\n    players = dict()\n    \n    with io.open(os.path.join(base,'player_names.json'), 'r') as fp:\n        players = json.load(fp)\n#         print('\\n', players,'\\n')\n        for sent in nltk.sent_tokenize(get_all_text_fromjsonfile(data)):\n#             print (sent)\n            for chunk in nltk.ne_chunk(nltk.pos_tag(without_stopwords(nltk.word_tokenize(sent)))):\n                if hasattr(chunk, 'label') and (chunk.label() == 'PERSON'):\n                    playerFromSent = ' '.join(c[0] for c in chunk)\n#                     print(f'\\nworking with {playerFromSent}\\n')\n                    for player in players.keys():\n                        if playerFromSent.lower() in players[player]:\n#                             print (playerFromSent,'found\\n')\n                            personal_comm.setdefault(player.lower(),[]).append([get_vader_sentence_score(sent)['compound'],sent])\n    return personal_comm",
      "execution_count": 7,
      "outputs": []
    },
    {
      "metadata": {},
      "cell_type": "markdown",
      "source": "##### We have made a function that evaluates a sentence.  (get_player_score_fromjson)\nNext, we'll put a candidate sentence through it and get a result\n### Okay, for simplicity let's work with <i style=\"color : red\">postText</i>, <i style=\"color : red\">preText</i> and give a scoring based on that\n- For each sentence we find a player's name we shall repeat this process."
    },
    {
      "metadata": {
        "trusted": true
      },
      "cell_type": "code",
      "source": "import nltk\nnltk.download(\"punkt\")\nnltk.download(\"brown\")\nnltk.download(\"stopwords\")\nnltk.download('averaged_perceptron_tagger')\nnltk.download('maxent_ne_chunker')\nnltk.download(\"words\")",
      "execution_count": 8,
      "outputs": [
        {
          "output_type": "stream",
          "text": "[nltk_data] Downloading package punkt to /home/jovyan/nltk_data...\n[nltk_data]   Package punkt is already up-to-date!\n[nltk_data] Downloading package brown to /home/jovyan/nltk_data...\n[nltk_data]   Package brown is already up-to-date!\n[nltk_data] Downloading package stopwords to /home/jovyan/nltk_data...\n[nltk_data]   Package stopwords is already up-to-date!\n[nltk_data] Downloading package averaged_perceptron_tagger to\n[nltk_data]     /home/jovyan/nltk_data...\n[nltk_data]   Package averaged_perceptron_tagger is already up-to-\n[nltk_data]       date!\n[nltk_data] Downloading package maxent_ne_chunker to\n[nltk_data]     /home/jovyan/nltk_data...\n[nltk_data]   Package maxent_ne_chunker is already up-to-date!\n[nltk_data] Downloading package words to /home/jovyan/nltk_data...\n[nltk_data]   Package words is already up-to-date!\n",
          "name": "stderr"
        },
        {
          "output_type": "execute_result",
          "execution_count": 8,
          "data": {
            "text/plain": "True"
          },
          "metadata": {}
        }
      ]
    },
    {
      "metadata": {},
      "cell_type": "markdown",
      "source": "# <span style=\"color:red;\">Let's Begin!</span>"
    },
    {
      "metadata": {
        "scrolled": true,
        "trusted": true
      },
      "cell_type": "code",
      "source": "personal_comm = dict()\nfor match in matches:\n    os.chdir(match.path);\n    #match_details = get_match_details(match.name)\n    print (\"moving to \"+match.path);\n    innings = [f.path for f in os.scandir(match.path) if f.is_dir()]\n    for single_innings in innings: #There is two innings in one one day match, we'll iterate foe both of them\n        os.chdir(single_innings);\n        print (\"moving to \"+single_innings);\n        for jsonfile in os.listdir():\n            if 'comm_part' in jsonfile: #comm_part is a common substring in the filename of json files. this condition prevents other files from hampering file iteration\n                print(\"opening \" + jsonfile)\n                with io.open(jsonfile, 'r') as file:\n                    data = json.load(file)\n                    get_player_score_fromjson(data) #passing the file contents to the previously written function\n                    \n#                     print(metadata)\n# personal_comm",
      "execution_count": 9,
      "outputs": [
        {
          "output_type": "stream",
          "text": "moving to /home/jovyan/commentaries/1153635\nmoving to /home/jovyan/commentaries/1153635/innings02\nopening comm_part13.json\nopening comm_part10.json\nopening comm_part1.json\nopening comm_part2.json\nopening comm_part11.json\nopening comm_part4.json\nopening comm_part6.json\nopening comm_part3.json\nopening comm_part5.json\nopening comm_part9.json\nopening comm_part12.json\nopening comm_part7.json\nopening comm_part8.json\nmoving to /home/jovyan/commentaries/1153635/innings01\nopening comm_part13.json\nopening comm_part10.json\nopening comm_part1.json\nopening comm_part2.json\nopening comm_part11.json\nopening comm_part4.json\nopening comm_part6.json\nopening comm_part3.json\nopening comm_part5.json\nopening comm_part9.json\nopening comm_part12.json\nopening comm_part7.json\nopening comm_part8.json\nmoving to /home/jovyan/commentaries/1146722\nmoving to /home/jovyan/commentaries/1146722/innings02\nopening comm_part13.json\nopening comm_part10.json\nopening comm_part1.json\nopening comm_part2.json\nopening comm_part11.json\nopening comm_part4.json\nopening comm_part6.json\nopening comm_part3.json\nopening comm_part5.json\nopening comm_part9.json\nopening comm_part12.json\nopening comm_part7.json\nopening comm_part8.json\nmoving to /home/jovyan/commentaries/1146722/innings01\nopening comm_part13.json\nopening comm_part10.json\nopening comm_part1.json\nopening comm_part2.json\nopening comm_part11.json\nopening comm_part4.json\nopening comm_part6.json\nopening comm_part3.json\nopening comm_part5.json\nopening comm_part9.json\nopening comm_part12.json\nopening comm_part7.json\nopening comm_part8.json\nmoving to /home/jovyan/commentaries/1153636\nmoving to /home/jovyan/commentaries/1153636/innings02\nopening comm_part10.json\nopening comm_part1.json\nopening comm_part2.json\nopening comm_part11.json\nopening comm_part4.json\nopening comm_part6.json\nopening comm_part3.json\nopening comm_part5.json\nopening comm_part9.json\nopening comm_part12.json\nopening comm_part7.json\nopening comm_part8.json\nmoving to /home/jovyan/commentaries/1153636/innings01\nopening comm_part13.json\nopening comm_part10.json\nopening comm_part1.json\nopening comm_part2.json\nopening comm_part11.json\nopening comm_part4.json\nopening comm_part6.json\nopening comm_part3.json\nopening comm_part5.json\nopening comm_part9.json\nopening comm_part12.json\nopening comm_part7.json\nopening comm_part8.json\nmoving to /home/jovyan/commentaries/1144487\nmoving to /home/jovyan/commentaries/1144487/innings02\nopening comm_part13.json\nopening comm_part10.json\nopening comm_part1.json\nopening comm_part2.json\nopening comm_part11.json\nopening comm_part4.json\nopening comm_part6.json\nopening comm_part3.json\nopening comm_part5.json\nopening comm_part9.json\nopening comm_part12.json\nopening comm_part7.json\nopening comm_part8.json\nmoving to /home/jovyan/commentaries/1144487/innings01\nopening comm_part13.json\nopening comm_part10.json\nopening comm_part1.json\nopening comm_part2.json\nopening comm_part11.json\nopening comm_part4.json\nopening comm_part6.json\nopening comm_part3.json\nopening comm_part5.json\nopening comm_part9.json\nopening comm_part12.json\nopening comm_part7.json\nopening comm_part8.json\nmoving to /home/jovyan/commentaries/1153316\nmoving to /home/jovyan/commentaries/1153316/innings02\nopening comm_part10.json\nopening comm_part1.json\nopening comm_part2.json\nopening comm_part4.json\nopening comm_part6.json\nopening comm_part3.json\nopening comm_part5.json\nopening comm_part9.json\nopening comm_part7.json\nopening comm_part8.json\nmoving to /home/jovyan/commentaries/1153316/innings01\nopening comm_part13.json\nopening comm_part10.json\nopening comm_part1.json\nopening comm_part2.json\nopening comm_part11.json\nopening comm_part4.json\nopening comm_part6.json\nopening comm_part3.json\nopening comm_part5.json\nopening comm_part9.json\nopening comm_part12.json\nopening comm_part7.json\nopening comm_part8.json\nmoving to /home/jovyan/commentaries/1153315\nmoving to /home/jovyan/commentaries/1153315/innings02\nopening comm_part13.json\nopening comm_part10.json\nopening comm_part1.json\nopening comm_part2.json\nopening comm_part11.json\nopening comm_part4.json\nopening comm_part6.json\nopening comm_part3.json\nopening comm_part5.json\nopening comm_part9.json\nopening comm_part12.json\nopening comm_part7.json\nopening comm_part8.json\nmoving to /home/jovyan/commentaries/1153315/innings01\nopening comm_part13.json\nopening comm_part10.json\nopening comm_part1.json\nopening comm_part2.json\nopening comm_part11.json\nopening comm_part4.json\nopening comm_part6.json\nopening comm_part3.json\nopening comm_part5.json\nopening comm_part9.json\nopening comm_part12.json\nopening comm_part7.json\nopening comm_part8.json\nmoving to /home/jovyan/commentaries/1146721\nmoving to /home/jovyan/commentaries/1146721/innings02\nopening comm_part13.json\nopening comm_part10.json\nopening comm_part1.json\nopening comm_part2.json\nopening comm_part11.json\nopening comm_part4.json\nopening comm_part6.json\nopening comm_part3.json\nopening comm_part5.json\nopening comm_part9.json\nopening comm_part12.json\nopening comm_part7.json\nopening comm_part8.json\nmoving to /home/jovyan/commentaries/1146721/innings01\nopening comm_part10.json\nopening comm_part1.json\nopening comm_part2.json\nopening comm_part11.json\nopening comm_part4.json\nopening comm_part6.json\nopening comm_part3.json\nopening comm_part5.json\nopening comm_part9.json\nopening comm_part12.json\nopening comm_part7.json\nopening comm_part8.json\nmoving to /home/jovyan/commentaries/1130741\nmoving to /home/jovyan/commentaries/1130741/innings02\nopening comm_part1.json\nopening comm_part2.json\nopening comm_part4.json\nopening comm_part6.json\nopening comm_part3.json\nopening comm_part5.json\nopening comm_part9.json\nopening comm_part7.json\nopening comm_part8.json\nmoving to /home/jovyan/commentaries/1130741/innings01\nopening comm_part13.json\nopening comm_part10.json\nopening comm_part1.json\nopening comm_part2.json\nopening comm_part11.json\nopening comm_part4.json\nopening comm_part6.json\nopening comm_part3.json\nopening comm_part5.json\nopening comm_part9.json\nopening comm_part12.json\nopening comm_part7.json\nopening comm_part8.json\nmoving to /home/jovyan/commentaries/1153255\nmoving to /home/jovyan/commentaries/1153255/innings02\nopening comm_part13.json\nopening comm_part10.json\nopening comm_part1.json\nopening comm_part2.json\nopening comm_part11.json\nopening comm_part4.json\nopening comm_part6.json\nopening comm_part3.json\nopening comm_part5.json\nopening comm_part9.json\nopening comm_part12.json\nopening comm_part7.json\nopening comm_part8.json\nmoving to /home/jovyan/commentaries/1153255/innings01\nopening comm_part10.json\nopening comm_part1.json\nopening comm_part2.json\nopening comm_part11.json\nopening comm_part4.json\nopening comm_part6.json\nopening comm_part3.json\nopening comm_part5.json\nopening comm_part9.json\nopening comm_part12.json\nopening comm_part7.json\nopening comm_part8.json\nmoving to /home/jovyan/commentaries/1130737\nmoving to /home/jovyan/commentaries/1130737/innings02\nopening comm_part1.json\nopening comm_part2.json\nopening comm_part4.json\nopening comm_part6.json\nopening comm_part3.json\nopening comm_part5.json\nopening comm_part7.json\nopening comm_part8.json\nmoving to /home/jovyan/commentaries/1130737/innings01\nopening comm_part13.json\nopening comm_part10.json\nopening comm_part1.json\nopening comm_part2.json\nopening comm_part11.json\nopening comm_part4.json\nopening comm_part6.json\nopening comm_part3.json\nopening comm_part5.json\nopening comm_part9.json\nopening comm_part12.json\nopening comm_part7.json\nopening comm_part8.json\nmoving to /home/jovyan/commentaries/1130739\nmoving to /home/jovyan/commentaries/1130739/innings02\nopening comm_part1.json\nopening comm_part2.json\nopening comm_part4.json\nopening comm_part6.json\nopening comm_part3.json\nopening comm_part5.json\nopening comm_part7.json\nopening comm_part8.json\nmoving to /home/jovyan/commentaries/1130739/innings01\nopening comm_part13.json\nopening comm_part10.json\nopening comm_part1.json\nopening comm_part2.json\nopening comm_part11.json\nopening comm_part4.json\nopening comm_part6.json\nopening comm_part3.json\nopening comm_part5.json\nopening comm_part9.json\nopening comm_part12.json\nopening comm_part7.json\nopening comm_part8.json\nmoving to /home/jovyan/commentaries/1153637\nmoving to /home/jovyan/commentaries/1153637/innings02\nopening comm_part10.json\nopening comm_part1.json\n",
          "name": "stdout"
        },
        {
          "output_type": "stream",
          "text": "opening comm_part2.json\nopening comm_part11.json\nopening comm_part4.json\nopening comm_part6.json\nopening comm_part3.json\nopening comm_part5.json\nopening comm_part9.json\nopening comm_part7.json\nopening comm_part8.json\nmoving to /home/jovyan/commentaries/1153637/innings01\nopening comm_part13.json\nopening comm_part10.json\nopening comm_part1.json\nopening comm_part2.json\nopening comm_part11.json\nopening comm_part4.json\nopening comm_part6.json\nopening comm_part3.json\nopening comm_part5.json\nopening comm_part9.json\nopening comm_part12.json\nopening comm_part7.json\nopening comm_part8.json\nmoving to /home/jovyan/commentaries/1153252\nmoving to /home/jovyan/commentaries/1153252/innings02\nopening comm_part13.json\nopening comm_part10.json\nopening comm_part1.json\nopening comm_part2.json\nopening comm_part11.json\nopening comm_part4.json\nopening comm_part6.json\nopening comm_part3.json\nopening comm_part5.json\nopening comm_part9.json\nopening comm_part12.json\nopening comm_part7.json\nopening comm_part8.json\nmoving to /home/jovyan/commentaries/1153252/innings01\nopening comm_part13.json\nopening comm_part10.json\nopening comm_part1.json\nopening comm_part2.json\nopening comm_part11.json\nopening comm_part4.json\nopening comm_part6.json\nopening comm_part3.json\nopening comm_part5.json\nopening comm_part9.json\nopening comm_part12.json\nopening comm_part7.json\nopening comm_part8.json\nmoving to /home/jovyan/commentaries/1146720\nmoving to /home/jovyan/commentaries/1146720/innings02\nopening comm_part13.json\nopening comm_part10.json\nopening comm_part1.json\nopening comm_part2.json\nopening comm_part11.json\nopening comm_part4.json\nopening comm_part6.json\nopening comm_part3.json\nopening comm_part5.json\nopening comm_part9.json\nopening comm_part12.json\nopening comm_part7.json\nopening comm_part8.json\nmoving to /home/jovyan/commentaries/1146720/innings01\nopening comm_part13.json\nopening comm_part10.json\nopening comm_part1.json\nopening comm_part2.json\nopening comm_part11.json\nopening comm_part4.json\nopening comm_part6.json\nopening comm_part3.json\nopening comm_part5.json\nopening comm_part9.json\nopening comm_part12.json\nopening comm_part7.json\nopening comm_part8.json\nmoving to /home/jovyan/commentaries/1153254\nmoving to /home/jovyan/commentaries/1153254/innings02\nopening comm_part13.json\nopening comm_part10.json\nopening comm_part1.json\nopening comm_part2.json\nopening comm_part11.json\nopening comm_part4.json\nopening comm_part6.json\nopening comm_part3.json\nopening comm_part5.json\nopening comm_part9.json\nopening comm_part12.json\nopening comm_part7.json\nopening comm_part8.json\nmoving to /home/jovyan/commentaries/1153254/innings01\nopening comm_part10.json\nopening comm_part1.json\nopening comm_part2.json\nopening comm_part11.json\nopening comm_part4.json\nopening comm_part6.json\nopening comm_part3.json\nopening comm_part5.json\nopening comm_part9.json\nopening comm_part12.json\nopening comm_part7.json\nopening comm_part8.json\nmoving to /home/jovyan/commentaries/1130743\nmoving to /home/jovyan/commentaries/1130743/innings02\nopening comm_part10.json\nopening comm_part1.json\nopening comm_part2.json\nopening comm_part11.json\nopening comm_part4.json\nopening comm_part6.json\nopening comm_part3.json\nopening comm_part5.json\nopening comm_part9.json\nopening comm_part7.json\nopening comm_part8.json\nmoving to /home/jovyan/commentaries/1130743/innings01\nopening comm_part13.json\nopening comm_part10.json\nopening comm_part1.json\nopening comm_part2.json\nopening comm_part11.json\nopening comm_part4.json\nopening comm_part6.json\nopening comm_part3.json\nopening comm_part5.json\nopening comm_part9.json\nopening comm_part12.json\nopening comm_part7.json\nopening comm_part8.json\nmoving to /home/jovyan/commentaries/1168514\nmoving to /home/jovyan/commentaries/1168514/innings02\nopening comm_part1.json\nopening comm_part2.json\nopening comm_part4.json\nopening comm_part6.json\nopening comm_part3.json\nopening comm_part5.json\nmoving to /home/jovyan/commentaries/1168514/innings01\nopening comm_part1.json\nopening comm_part2.json\nopening comm_part4.json\nopening comm_part6.json\nopening comm_part3.json\nopening comm_part5.json\nmoving to /home/jovyan/commentaries/1130742\nmoving to /home/jovyan/commentaries/1130742/innings02\nopening comm_part1.json\nopening comm_part2.json\nopening comm_part4.json\nopening comm_part3.json\nmoving to /home/jovyan/commentaries/1130742/innings01\nopening comm_part1.json\nopening comm_part2.json\nopening comm_part4.json\nopening comm_part6.json\nopening comm_part3.json\nopening comm_part5.json\nmoving to /home/jovyan/commentaries/1168509\nmoving to /home/jovyan/commentaries/1168509/innings02\nopening comm_part10.json\nopening comm_part1.json\nopening comm_part2.json\nopening comm_part11.json\nopening comm_part4.json\nopening comm_part6.json\nopening comm_part3.json\nopening comm_part5.json\nopening comm_part9.json\nopening comm_part12.json\nopening comm_part7.json\nopening comm_part8.json\nmoving to /home/jovyan/commentaries/1168509/innings01\nopening comm_part13.json\nopening comm_part10.json\nopening comm_part1.json\nopening comm_part2.json\nopening comm_part11.json\nopening comm_part4.json\nopening comm_part6.json\nopening comm_part3.json\nopening comm_part5.json\nopening comm_part9.json\nopening comm_part12.json\nopening comm_part7.json\nopening comm_part8.json\nmoving to /home/jovyan/commentaries/1153314\nmoving to /home/jovyan/commentaries/1153314/innings02\nopening comm_part10.json\nopening comm_part1.json\nopening comm_part2.json\nopening comm_part4.json\nopening comm_part6.json\nopening comm_part3.json\nopening comm_part5.json\nopening comm_part9.json\nopening comm_part7.json\nopening comm_part8.json\nmoving to /home/jovyan/commentaries/1153314/innings01\nopening comm_part13.json\nopening comm_part10.json\nopening comm_part1.json\nopening comm_part2.json\nopening comm_part11.json\nopening comm_part4.json\nopening comm_part6.json\nopening comm_part3.json\nopening comm_part5.json\nopening comm_part9.json\nopening comm_part12.json\nopening comm_part7.json\nopening comm_part8.json\nmoving to /home/jovyan/commentaries/1144491\nmoving to /home/jovyan/commentaries/1144491/innings02\nopening comm_part10.json\nopening comm_part1.json\nopening comm_part2.json\nopening comm_part11.json\nopening comm_part4.json\nopening comm_part6.json\nopening comm_part3.json\nopening comm_part5.json\nopening comm_part9.json\nopening comm_part12.json\nopening comm_part7.json\nopening comm_part8.json\nmoving to /home/jovyan/commentaries/1144491/innings01\nopening comm_part13.json\nopening comm_part10.json\nopening comm_part1.json\nopening comm_part2.json\nopening comm_part11.json\nopening comm_part4.json\nopening comm_part6.json\nopening comm_part3.json\nopening comm_part5.json\nopening comm_part9.json\nopening comm_part12.json\nopening comm_part7.json\nopening comm_part8.json\nmoving to /home/jovyan/commentaries/1168513\nmoving to /home/jovyan/commentaries/1168513/innings02\nopening comm_part10.json\nopening comm_part1.json\nopening comm_part2.json\nopening comm_part11.json\nopening comm_part4.json\nopening comm_part6.json\nopening comm_part3.json\nopening comm_part5.json\nopening comm_part9.json\nopening comm_part7.json\nopening comm_part8.json\nmoving to /home/jovyan/commentaries/1168513/innings01\nopening comm_part13.json\nopening comm_part10.json\nopening comm_part1.json\nopening comm_part2.json\nopening comm_part11.json\nopening comm_part4.json\nopening comm_part6.json\nopening comm_part3.json\nopening comm_part5.json\nopening comm_part9.json\nopening comm_part12.json\nopening comm_part7.json\nopening comm_part8.json\nmoving to /home/jovyan/commentaries/1153248\nmoving to /home/jovyan/commentaries/1153248/innings02\nopening comm_part10.json\nopening comm_part1.json\nopening comm_part2.json\nopening comm_part11.json\nopening comm_part4.json\nopening comm_part6.json\nopening comm_part3.json\nopening comm_part5.json\nopening comm_part9.json\nopening comm_part7.json\nopening comm_part8.json\nmoving to /home/jovyan/commentaries/1153248/innings01\nopening comm_part13.json\nopening comm_part10.json\nopening comm_part1.json\nopening comm_part2.json\nopening comm_part11.json\nopening comm_part4.json\nopening comm_part6.json\nopening comm_part3.json\nopening comm_part5.json\nopening comm_part9.json\nopening comm_part12.json\nopening comm_part7.json\nopening comm_part8.json\nmoving to /home/jovyan/commentaries/1168512\nmoving to /home/jovyan/commentaries/1168512/innings02\nopening comm_part10.json\nopening comm_part1.json\n",
          "name": "stdout"
        },
        {
          "output_type": "stream",
          "text": "opening comm_part2.json\nopening comm_part11.json\nopening comm_part4.json\nopening comm_part6.json\nopening comm_part3.json\nopening comm_part5.json\nopening comm_part9.json\nopening comm_part12.json\nopening comm_part7.json\nopening comm_part8.json\nmoving to /home/jovyan/commentaries/1168512/innings01\nopening comm_part13.json\nopening comm_part10.json\nopening comm_part1.json\nopening comm_part2.json\nopening comm_part11.json\nopening comm_part4.json\nopening comm_part6.json\nopening comm_part3.json\nopening comm_part5.json\nopening comm_part9.json\nopening comm_part12.json\nopening comm_part7.json\nopening comm_part8.json\nmoving to /home/jovyan/commentaries/1153243\nmoving to /home/jovyan/commentaries/1153243/innings02\nopening comm_part1.json\nopening comm_part2.json\nopening comm_part4.json\nopening comm_part6.json\nopening comm_part3.json\nopening comm_part5.json\nopening comm_part9.json\nopening comm_part7.json\nopening comm_part8.json\nmoving to /home/jovyan/commentaries/1153243/innings01\nopening comm_part13.json\nopening comm_part10.json\nopening comm_part1.json\nopening comm_part2.json\nopening comm_part11.json\nopening comm_part4.json\nopening comm_part6.json\nopening comm_part3.json\nopening comm_part5.json\nopening comm_part9.json\nopening comm_part12.json\nopening comm_part7.json\nopening comm_part8.json\nmoving to /home/jovyan/commentaries/1153846\nmoving to /home/jovyan/commentaries/1153846/innings02\nopening comm_part10.json\nopening comm_part1.json\nopening comm_part2.json\nopening comm_part11.json\nopening comm_part4.json\nopening comm_part6.json\nopening comm_part3.json\nopening comm_part5.json\nopening comm_part9.json\nopening comm_part12.json\nopening comm_part7.json\nopening comm_part8.json\nmoving to /home/jovyan/commentaries/1153846/innings01\nopening comm_part13.json\nopening comm_part10.json\nopening comm_part1.json\nopening comm_part2.json\nopening comm_part11.json\nopening comm_part4.json\nopening comm_part6.json\nopening comm_part3.json\nopening comm_part5.json\nopening comm_part9.json\nopening comm_part12.json\nopening comm_part7.json\nopening comm_part8.json\nmoving to /home/jovyan/commentaries/1153845\nmoving to /home/jovyan/commentaries/1153845/innings02\nopening comm_part1.json\nopening comm_part2.json\nopening comm_part4.json\nopening comm_part6.json\nopening comm_part3.json\nopening comm_part5.json\nopening comm_part9.json\nopening comm_part7.json\nopening comm_part8.json\nmoving to /home/jovyan/commentaries/1153845/innings01\nopening comm_part13.json\nopening comm_part10.json\nopening comm_part1.json\nopening comm_part2.json\nopening comm_part11.json\nopening comm_part4.json\nopening comm_part6.json\nopening comm_part3.json\nopening comm_part5.json\nopening comm_part9.json\nopening comm_part12.json\nopening comm_part7.json\nopening comm_part8.json\nmoving to /home/jovyan/commentaries/1153844\nmoving to /home/jovyan/commentaries/1153844/innings02\nopening comm_part10.json\nopening comm_part1.json\nopening comm_part2.json\nopening comm_part11.json\nopening comm_part4.json\nopening comm_part6.json\nopening comm_part3.json\nopening comm_part5.json\nopening comm_part9.json\nopening comm_part7.json\nopening comm_part8.json\nmoving to /home/jovyan/commentaries/1153844/innings01\nopening comm_part13.json\nopening comm_part10.json\nopening comm_part1.json\nopening comm_part2.json\nopening comm_part11.json\nopening comm_part4.json\nopening comm_part6.json\nopening comm_part3.json\nopening comm_part5.json\nopening comm_part9.json\nopening comm_part12.json\nopening comm_part7.json\nopening comm_part8.json\nmoving to /home/jovyan/commentaries/1153249\nmoving to /home/jovyan/commentaries/1153249/innings02\nopening comm_part1.json\nopening comm_part2.json\nopening comm_part4.json\nopening comm_part6.json\nopening comm_part3.json\nopening comm_part5.json\nopening comm_part9.json\nopening comm_part7.json\nopening comm_part8.json\nmoving to /home/jovyan/commentaries/1153249/innings01\nopening comm_part10.json\nopening comm_part1.json\nopening comm_part2.json\nopening comm_part11.json\nopening comm_part4.json\nopening comm_part6.json\nopening comm_part3.json\nopening comm_part5.json\nopening comm_part9.json\nopening comm_part12.json\nopening comm_part7.json\nopening comm_part8.json\n",
          "name": "stdout"
        }
      ]
    },
    {
      "metadata": {
        "trusted": true
      },
      "cell_type": "code",
      "source": "total_commentary",
      "execution_count": 19,
      "outputs": [
        {
          "output_type": "execute_result",
          "execution_count": 19,
          "data": {
            "text/plain": "15968"
          },
          "metadata": {}
        }
      ]
    },
    {
      "metadata": {
        "trusted": true
      },
      "cell_type": "code",
      "source": "total_sent",
      "execution_count": 11,
      "outputs": [
        {
          "output_type": "execute_result",
          "execution_count": 11,
          "data": {
            "text/plain": "0"
          },
          "metadata": {}
        }
      ]
    },
    {
      "metadata": {
        "trusted": true
      },
      "cell_type": "code",
      "source": "# match.path #this is random variable checking. nothing important",
      "execution_count": 12,
      "outputs": []
    },
    {
      "metadata": {},
      "cell_type": "markdown",
      "source": "# Next Step\n#### Create a function that takes in commetary json and spits out a dictionary that contains player names and commentary sentences about them\n\n    - have to add the save_player_names to this module"
    },
    {
      "metadata": {
        "trusted": true
      },
      "cell_type": "code",
      "source": "os.getcwd()",
      "execution_count": 13,
      "outputs": [
        {
          "output_type": "execute_result",
          "execution_count": 13,
          "data": {
            "text/plain": "'/home/jovyan/commentaries/1153249/innings01'"
          },
          "metadata": {}
        }
      ]
    },
    {
      "metadata": {},
      "cell_type": "markdown",
      "source": "### Saving commentary, related player names, and scores for each sentence for that player"
    },
    {
      "metadata": {
        "trusted": true
      },
      "cell_type": "code",
      "source": "with open(os.path.join(base,'result-json2.json'), 'w') as fp:\n    json.dump(personal_comm,fp)",
      "execution_count": 14,
      "outputs": []
    },
    {
      "metadata": {
        "trusted": true
      },
      "cell_type": "code",
      "source": "os.getcwd() #checking which directory I am at right now",
      "execution_count": 15,
      "outputs": [
        {
          "output_type": "execute_result",
          "execution_count": 15,
          "data": {
            "text/plain": "'/home/jovyan/commentaries/1153249/innings01'"
          },
          "metadata": {}
        }
      ]
    },
    {
      "metadata": {},
      "cell_type": "markdown",
      "source": "# Calculating a mean value for each player"
    },
    {
      "metadata": {
        "trusted": true
      },
      "cell_type": "code",
      "source": "result = dict()\n\nfor key in personal_comm.keys():\n    sumofpoints = 0\n    for item in personal_comm[key]:\n        total_sent += 1\n        sumofpoints += item[0]\n#     print (key, sumofpoints, len(personal_comm[key]))\n    result[key] = sumofpoints/len(personal_comm[key])",
      "execution_count": 16,
      "outputs": []
    },
    {
      "metadata": {
        "trusted": true
      },
      "cell_type": "code",
      "source": "total_sent\n",
      "execution_count": 17,
      "outputs": [
        {
          "output_type": "execute_result",
          "execution_count": 17,
          "data": {
            "text/plain": "980"
          },
          "metadata": {}
        }
      ]
    },
    {
      "metadata": {
        "trusted": true
      },
      "cell_type": "code",
      "source": "for player in result.keys():\n    print(f\"\\\\item {player.title()} - {len(personal_comm[player])} times\")",
      "execution_count": 18,
      "outputs": [
        {
          "output_type": "stream",
          "text": "\\item Imrul Kayes - 70 times\n\\item Mohammad Saifuddin - 30 times\n\\item Mustafizur Rahman - 28 times\n\\item Mashrafe Mortaza - 126 times\n\\item Shakib Al Hasan - 144 times\n\\item Liton Das - 86 times\n\\item Mehidy Hasan - 54 times\n\\item Tamim Iqbal - 141 times\n\\item Mushfiqur Rahim - 74 times\n\\item Mohammad Mithun - 35 times\n\\item Rubel Hossain - 45 times\n\\item Mahmudullah - 26 times\n\\item Soumya Sarkar - 85 times\n\\item Najmul Hossain Shanto - 4 times\n\\item Anamul Haque - 15 times\n\\item Nasir Hossain - 10 times\n\\item Taskin Ahmed - 7 times\n",
          "name": "stdout"
        }
      ]
    },
    {
      "metadata": {},
      "cell_type": "markdown",
      "source": "### Sorting the dictionary for comparative player ranking"
    },
    {
      "metadata": {
        "trusted": false
      },
      "cell_type": "code",
      "source": "import operator\nsorted_list = sorted(result.items(), key=operator.itemgetter(1), reverse=True)",
      "execution_count": 41,
      "outputs": []
    },
    {
      "metadata": {
        "trusted": false
      },
      "cell_type": "code",
      "source": "personal_comm.keys()",
      "execution_count": 45,
      "outputs": [
        {
          "data": {
            "text/plain": "dict_keys(['imrul kayes', 'mohammad saifuddin', 'mustafizur rahman', 'mashrafe mortaza', 'shakib al hasan', 'liton das', 'mehidy hasan', 'tamim iqbal', 'mushfiqur rahim', 'mohammad mithun', 'rubel hossain', 'mahmudullah', 'soumya sarkar', 'najmul hossain shanto', 'anamul haque', 'nasir hossain', 'taskin ahmed'])"
          },
          "execution_count": 45,
          "metadata": {},
          "output_type": "execute_result"
        }
      ]
    },
    {
      "metadata": {
        "trusted": false
      },
      "cell_type": "code",
      "source": "sorted_list",
      "execution_count": 42,
      "outputs": [
        {
          "data": {
            "text/plain": "[('mashrafe mortaza', 0.27430952380952384),\n ('mehidy hasan', 0.23445000000000002),\n ('soumya sarkar', 0.2078494117647059),\n ('imrul kayes', 0.20449428571428566),\n ('mohammad saifuddin', 0.1850766666666667),\n ('mohammad mithun', 0.1814057142857143),\n ('najmul hossain shanto', 0.176),\n ('tamim iqbal', 0.16256170212765947),\n ('liton das', 0.1546546511627907),\n ('shakib al hasan', 0.1383062500000001),\n ('mushfiqur rahim', 0.13402837837837842),\n ('mustafizur rahman', 0.12883571428571428),\n ('mahmudullah', 0.12602692307692306),\n ('rubel hossain', 0.07353777777777779),\n ('taskin ahmed', 0.046271428571428574),\n ('nasir hossain', 0.03095),\n ('anamul haque', -0.05986666666666666)]"
          },
          "execution_count": 42,
          "metadata": {},
          "output_type": "execute_result"
        }
      ]
    },
    {
      "metadata": {},
      "cell_type": "markdown",
      "source": "## Reversing the key-value to value-key"
    },
    {
      "metadata": {
        "trusted": false
      },
      "cell_type": "code",
      "source": "newdict = dict()\nfor x,y in sorted_list:\n    newdict[y] = x",
      "execution_count": 13,
      "outputs": []
    },
    {
      "metadata": {
        "trusted": false
      },
      "cell_type": "code",
      "source": "val_list = [x for y,x in sorted_list ]",
      "execution_count": 14,
      "outputs": []
    },
    {
      "metadata": {},
      "cell_type": "markdown",
      "source": "##  <span style=\"color : limegreen\">Selected players and their points</span>\nPrinting top eleven player due to their points\n*val_list already contains a sorted list of points that are assigned to each player*"
    },
    {
      "metadata": {
        "trusted": false
      },
      "cell_type": "code",
      "source": "for x in val_list[:11]:\n    print (newdict[x], x)",
      "execution_count": 15,
      "outputs": [
        {
          "name": "stdout",
          "output_type": "stream",
          "text": "mashrafe mortaza 0.22858319999999988\nmehidy hasan 0.1963518518518519\nmohammad saifuddin 0.15109333333333336\nsoumya sarkar 0.15051882352941176\nimrul kayes 0.13948260869565218\nmohammad mithun 0.12819142857142862\ntamim iqbal 0.11337163120567378\nmustafizur rahman 0.11148928571428572\nliton das 0.10149651162790697\nmushfiqur rahim 0.09308783783783783\nshakib al hasan 0.08590555555555557\n"
        }
      ]
    },
    {
      "metadata": {
        "trusted": false
      },
      "cell_type": "code",
      "source": "base_db = os.path.join(base, 'commentaries')",
      "execution_count": 9,
      "outputs": []
    },
    {
      "metadata": {},
      "cell_type": "markdown",
      "source": "# Let's check if the results are accurate or not\n### At first let's make lists of 5 matches, 10 matches, 20 matches"
    },
    {
      "metadata": {
        "trusted": false
      },
      "cell_type": "code",
      "source": "match_5 = ['1168512','1168513','1168514', '1144487', '1168509']\nmatch_10 = ['1168512','1168513','1168514', '1144487', '1168509', '1153844', '1153845', '1153846', '1153316', '1153315']\nmatch_20 = ['1168512','1168513','1168514', '1144487', '1168509', '1153844', '1153845', '1153846', '1153316', '1153315', '1153314', '1153635', '1153636', '1153637', '1153255', '1153254', '1153252', '1153249', '1153248', '1153243']",
      "execution_count": 8,
      "outputs": []
    },
    {
      "metadata": {},
      "cell_type": "markdown",
      "source": "**Following three cells just prepare folder location of relevent number of matches for accuracy testing**"
    },
    {
      "metadata": {
        "trusted": false
      },
      "cell_type": "code",
      "source": "match_20_dir = []\nfor ent in match_20:\n    match_20_dir.append(os.path.join(base_db, ent))\n   ",
      "execution_count": 18,
      "outputs": []
    },
    {
      "metadata": {
        "trusted": false
      },
      "cell_type": "code",
      "source": "match_10_dir = []\nfor ent in match_10:\n    match_10_dir.append(os.path.join(base_db, ent))\n   ",
      "execution_count": 19,
      "outputs": []
    },
    {
      "metadata": {
        "trusted": false
      },
      "cell_type": "code",
      "source": "match_5_dir = []\nfor ent in match_5:\n    match_5_dir.append(os.path.join(base_db, ent))\n   ",
      "execution_count": 20,
      "outputs": []
    },
    {
      "metadata": {
        "trusted": false
      },
      "cell_type": "code",
      "source": "os.chdir(base)",
      "execution_count": 21,
      "outputs": []
    },
    {
      "metadata": {
        "scrolled": true,
        "trusted": false
      },
      "cell_type": "code",
      "source": "match_10_dir\n",
      "execution_count": 22,
      "outputs": [
        {
          "data": {
            "text/plain": "['/mnt/9439c024-e4c1-4178-81f7-44a8e3f2c862/links (git)/commentary-analysis/commentaries/1168512',\n '/mnt/9439c024-e4c1-4178-81f7-44a8e3f2c862/links (git)/commentary-analysis/commentaries/1168513',\n '/mnt/9439c024-e4c1-4178-81f7-44a8e3f2c862/links (git)/commentary-analysis/commentaries/1168514',\n '/mnt/9439c024-e4c1-4178-81f7-44a8e3f2c862/links (git)/commentary-analysis/commentaries/1144487',\n '/mnt/9439c024-e4c1-4178-81f7-44a8e3f2c862/links (git)/commentary-analysis/commentaries/1168509',\n '/mnt/9439c024-e4c1-4178-81f7-44a8e3f2c862/links (git)/commentary-analysis/commentaries/1153844',\n '/mnt/9439c024-e4c1-4178-81f7-44a8e3f2c862/links (git)/commentary-analysis/commentaries/1153845',\n '/mnt/9439c024-e4c1-4178-81f7-44a8e3f2c862/links (git)/commentary-analysis/commentaries/1153846',\n '/mnt/9439c024-e4c1-4178-81f7-44a8e3f2c862/links (git)/commentary-analysis/commentaries/1153316',\n '/mnt/9439c024-e4c1-4178-81f7-44a8e3f2c862/links (git)/commentary-analysis/commentaries/1153315']"
          },
          "execution_count": 22,
          "metadata": {},
          "output_type": "execute_result"
        }
      ]
    },
    {
      "metadata": {},
      "cell_type": "markdown",
      "source": "### We'll check for a five match squad prediction and compare it with 6th match's squad"
    },
    {
      "metadata": {
        "scrolled": false,
        "trusted": false
      },
      "cell_type": "code",
      "source": "personal_comm = dict()\nfor match in match_5_dir:\n    os.chdir(match);\n    #match_details = get_match_details(match.name)\n    print (\"moving to \"+match);\n    innings = [f.path for f in os.scandir(match) if f.is_dir()]\n    for single_innings in innings:\n        os.chdir(single_innings);\n        print (\"moving to \"+single_innings);\n        for jsonfile in os.listdir():\n            if 'comm_part' in jsonfile:\n                print(\"opening \" + jsonfile)\n                with io.open(jsonfile, 'r') as file:\n                    data = json.load(file)\n                    get_player_score_fromjson(data)\n                    \n#                     print(metadata)\npersonal_comm",
      "execution_count": null,
      "outputs": []
    },
    {
      "metadata": {
        "trusted": false
      },
      "cell_type": "code",
      "source": "result = dict()\n# sumofpoints = 0\nfor key in personal_comm.keys():\n    sumofpoints = 0\n    for item in personal_comm[key]:\n        sumofpoints += item[0]\n#     print (key, sumofpoints, len(personal_comm[key]))\n    result[key] = sumofpoints/len(personal_comm[key])",
      "execution_count": 24,
      "outputs": []
    },
    {
      "metadata": {
        "trusted": false
      },
      "cell_type": "code",
      "source": "import operator\nsorted_list = sorted(result.items(), key=operator.itemgetter(1), reverse=True)",
      "execution_count": 25,
      "outputs": []
    },
    {
      "metadata": {
        "trusted": false
      },
      "cell_type": "code",
      "source": "newdict = dict()\nfor x,y in sorted_list:\n    newdict[y] = x",
      "execution_count": 26,
      "outputs": []
    },
    {
      "metadata": {
        "trusted": false
      },
      "cell_type": "code",
      "source": "val_list = [x for y,x in sorted_list ]",
      "execution_count": 27,
      "outputs": []
    },
    {
      "metadata": {},
      "cell_type": "markdown",
      "source": "## Selected players and their points <span style=\"color : darkblue\"> for 5 matches</span>"
    },
    {
      "metadata": {
        "trusted": false
      },
      "cell_type": "code",
      "source": "for x in val_list[:11]:\n    print (newdict[x], x)",
      "execution_count": 28,
      "outputs": [
        {
          "name": "stdout",
          "output_type": "stream",
          "text": "liton das 0.3019090909090909\nmashrafe mortaza 0.29534400000000005\nmehidy hasan 0.16267\nmahmudullah 0.128575\nnajmul hossain shanto 0.128\nshakib al hasan 0.1208655172413793\nmushfiqur rahim 0.09572142857142855\ntamim iqbal 0.05196190476190475\ntaskin ahmed 0.046271428571428574\nmohammad saifuddin 0.04349999999999998\nmustafizur rahman 0.030355555555555556\n"
        }
      ]
    },
    {
      "metadata": {},
      "cell_type": "markdown",
      "source": "### We'll check for a ten match squad prediction and compare it with 11th match's squad"
    },
    {
      "metadata": {
        "scrolled": true,
        "trusted": false
      },
      "cell_type": "code",
      "source": "personal_comm = dict()\nfor match in match_10_dir:\n    os.chdir(match);\n    #match_details = get_match_details(match.name)\n    print (\"moving to \"+match);\n    innings = [f.path for f in os.scandir(match) if f.is_dir()]\n    for single_innings in innings:\n        os.chdir(single_innings);\n        print (\"moving to \"+single_innings);\n        for jsonfile in os.listdir():\n            if 'comm_part' in jsonfile:\n                print(\"opening \" + jsonfile)\n                with io.open(jsonfile, 'r') as file:\n                    data = json.load(file)\n                    get_player_score_fromjson(data)\n                    \n#                     print(metadata)\npersonal_comm",
      "execution_count": null,
      "outputs": []
    },
    {
      "metadata": {
        "trusted": false
      },
      "cell_type": "code",
      "source": "result = dict()\n# sumofpoints = 0\nfor key in personal_comm.keys():\n    sumofpoints = 0\n    for item in personal_comm[key]:\n        sumofpoints += item[0]\n#     print (key, sumofpoints, len(personal_comm[key]))\n    result[key] = sumofpoints/len(personal_comm[key])",
      "execution_count": 30,
      "outputs": []
    },
    {
      "metadata": {
        "trusted": false
      },
      "cell_type": "code",
      "source": "import operator\nsorted_list = sorted(result.items(), key=operator.itemgetter(1), reverse=True)",
      "execution_count": 31,
      "outputs": []
    },
    {
      "metadata": {
        "trusted": false
      },
      "cell_type": "code",
      "source": "newdict = dict()\nfor x,y in sorted_list:\n    newdict[y] = x",
      "execution_count": 32,
      "outputs": []
    },
    {
      "metadata": {
        "trusted": false
      },
      "cell_type": "code",
      "source": "val_list = [x for y,x in sorted_list ]",
      "execution_count": 33,
      "outputs": []
    },
    {
      "metadata": {},
      "cell_type": "markdown",
      "source": "## Selected players and their points <span style=\"color : darkblue\"> for 10 matches</span>"
    },
    {
      "metadata": {
        "scrolled": true,
        "trusted": false
      },
      "cell_type": "code",
      "source": "for x in val_list[:11]:\n    print (newdict[x], x)",
      "execution_count": 34,
      "outputs": [
        {
          "name": "stdout",
          "output_type": "stream",
          "text": "mashrafe mortaza 0.19364565217391305\nmohammad mithun 0.15626666666666666\nmohammad saifuddin 0.1513875\nmehidy hasan 0.14847200000000002\nliton das 0.13023846153846153\nnajmul hossain shanto 0.128\nsoumya sarkar 0.11219130434782607\nrubel hossain 0.10597368421052632\nimrul kayes 0.09156666666666667\ntamim iqbal 0.08879999999999999\nshakib al hasan 0.05472954545454545\n"
        }
      ]
    },
    {
      "metadata": {},
      "cell_type": "markdown",
      "source": "### We'll check for a twenty match squad prediction and compare it with 21st match's squad"
    },
    {
      "metadata": {
        "scrolled": true,
        "trusted": false
      },
      "cell_type": "code",
      "source": "personal_comm = dict()\nfor match in match_20_dir:\n    os.chdir(match);\n    #match_details = get_match_details(match.name)\n    print (\"moving to \"+match);\n    innings = [f.path for f in os.scandir(match) if f.is_dir()]\n    for single_innings in innings:\n        os.chdir(single_innings);\n        print (\"moving to \"+single_innings);\n        for jsonfile in os.listdir():\n            if 'comm_part' in jsonfile:\n                print(\"opening \" + jsonfile)\n                with io.open(jsonfile, 'r') as file:\n                    data = json.load(file)\n                    get_player_score_fromjson(data)\n                    \n#                     print(metadata)\npersonal_comm",
      "execution_count": null,
      "outputs": []
    },
    {
      "metadata": {
        "trusted": false
      },
      "cell_type": "code",
      "source": "result = dict()\n# sumofpoints = 0\nfor key in personal_comm.keys():\n    sumofpoints = 0\n    for item in personal_comm[key]:\n        sumofpoints += item[0]\n#     print (key, sumofpoints, len(personal_comm[key]))\n    result[key] = sumofpoints/len(personal_comm[key])",
      "execution_count": 36,
      "outputs": []
    },
    {
      "metadata": {
        "trusted": false
      },
      "cell_type": "code",
      "source": "import operator\nsorted_list = sorted(result.items(), key=operator.itemgetter(1), reverse=True)",
      "execution_count": 37,
      "outputs": []
    },
    {
      "metadata": {
        "trusted": false
      },
      "cell_type": "code",
      "source": "newdict = dict()\nfor x,y in sorted_list:\n    newdict[y] = x",
      "execution_count": 38,
      "outputs": []
    },
    {
      "metadata": {
        "trusted": false
      },
      "cell_type": "code",
      "source": "val_list = [x for y,x in sorted_list ]",
      "execution_count": 39,
      "outputs": []
    },
    {
      "metadata": {},
      "cell_type": "markdown",
      "source": "## Selected players and their points <span style=\"color : darkblue\"> for 20 matches</span>"
    },
    {
      "metadata": {
        "trusted": false
      },
      "cell_type": "code",
      "source": "for x in val_list[:11]:\n    print (newdict[x], x)",
      "execution_count": 40,
      "outputs": [
        {
          "name": "stdout",
          "output_type": "stream",
          "text": "mohammad saifuddin 0.19967692307692309\nmashrafe mortaza 0.18356847826086953\nmehidy hasan 0.15923958333333335\nimrul kayes 0.13530298507462693\nsoumya sarkar 0.13002125\nmohammad mithun 0.12362258064516132\nliton das 0.11136666666666668\nmushfiqur rahim 0.09877460317460317\ntamim iqbal 0.06810204081632654\nmahmudullah 0.06521333333333333\nmustafizur rahman 0.05910400000000001\n"
        }
      ]
    },
    {
      "metadata": {
        "trusted": false
      },
      "cell_type": "code",
      "source": "personal_comm['imrul kayes']",
      "execution_count": 41,
      "outputs": [
        {
          "data": {
            "text/plain": "[[0.0, 'Imrul Kayes 4.'],\n [0.6124,\n  'Shahin Newaz: \"Saifuddin is a poor change in place of rubel... Rubel has the knack of bowling quick in a good length on a consistent basis where as saifuddin is more of a change of pace bowler...\"\\n\\nSazedur Rahman: \"I would love to see Mithun instead of Imrul, and Saifuddin instead of Rubel.'],\n [0.0,\n  'Mohammad Mithun comes in for Imrul Kayes, and Mohammad Saifuddin replaces Rubel Hossain.'],\n [-0.4215,\n  'Imrul Kayes brought back to rescue us in the Asia Cup, scored 328 runs in 3 innings against Zimbabwe and then suddenly 2 failures and he is back out.'],\n [-0.4215,\n  'Imrul Kayes brought back to rescue us in the Asia Cup, scored 328 runs in 3 innings against Zimbabwe and then suddenly 2 failures and he is back out.'],\n [0.8622,\n  'Reem Rahim: \"I think BD management Took a great decision to left out Imrul kayes.They brought back Soumya Sarkar at 3 which is a great decision and Sarkar is always Agressive in those opening and Number 3 position..Keeping in mind that World Cup will be in Bouncy pitches..Imrul have less amount of Shots in is hands..Despite Scoring 349 Vs Zim i think this is a good decision!'],\n [0.0,\n  'Here is Mashrafe.Sumanth: \"Imrul Kayes is few of the technically sound batsmen Bangla has got.'],\n [-0.3182,\n  'They reminds me the time when Imrul Kayes & Junayed Siddique fought for the opening slot with Tamim.'],\n [0.119,\n  '\"Dipu: \"\"\"Lewis\"\" you helped us to take the wicket of Bravo..\"Raash: \"@Sumanth, Soumya hasn\\'t played half of the Imrul\\'s ODI, still he has bettter average and strike rate, both of them have 4 MOM awards.'],\n [-0.1027,\n  'Nasrin A Poly: \"@ Hemant @,,,,,,the live tv commentators shows the list of highest run makers of 3 match odi series it is strange to see Imrul Kayes not in the list, he made 349 runs in 3 odi series aganist Zim, 144,90,115. he should have take the 2nd place of the list\" -- Didn\\'t see the list but you are rightOver to Saurabh for the next ten oversThanks again Hemant.'],\n [0.4588,\n  'Bangladesh: 1 Tamim Iqbal, 2 Liton Das, 3 Imrul Kayes, 4 Soumya Sarkar, 5 Mushfiqur Rahim (wk), 6 Shakib Al Hasan, 7 Mahmudullah, 8 Mehidy Hasan Miraz, 9 Mashrafe Mortaza (capt), 10 Mustafizur Rahman, 11 Rubel Hossain\\n\\n12.08pm Hello and welcome to the second ODI between Bangladesh and West Indies.'],\n [0.3103,\n  'Liton has been taken away for scans on his right footRifat: \"To be honest I think Imrul can\\'t play pace well...'],\n [0.4404,\n  'Bangladesh: 1 Tamim Iqbal, 2 Liton Das, 3 Imrul Kayes, 4 Soumya Sarkar, 5 Mushfiqur Rahim (wk), 6 Shakib Al Hasan, 7 Mahmudullah, 8 Mehidy Hasan Miraz, 9 Mashrafe Mortaza (capt), 10 Mustafizur Rahman, 11 Rubel Hossain\\n\\nWest Indies: 1 Kieran Powell, 2 Shai Hope (wk), 3 Darren Bravo, 4 Marlon Samuels, 5 Shimron Hetmyer, 6 Rovman Powell (capt), 7 Roston Chase, 8 Keemo Paul, 9 Devendra Bishoo, 10 Kemar Roach, 11 Oshane Thomas\\n\\nBangladesh have made five changes to their side, bringing in Shakib Al Hasan, Tamim Iqbal, Mustafizur Rahman, Mehidy Hasan Miraz and Rubel Hossain.'],\n [0.0, \"He'll be joined by Imrul Kayes.\"],\n [0.0, 'Imrul Kayes and Liton Das to open, Kyle Jarvis has the new ball.'],\n [0.0, 'RAKIB HASAN: \"This is the real stage to prove himself for Imrul.'],\n [0.4019,\n  'As an allrounder Saifuddin needs to step up and give support to Imrul.\"'],\n [-0.7351,\n  'Imrul brought up his third ODI ton off 118 balls before launching an all out attack.'],\n [-0.3182,\n  '\"Ron: \"Am I the only one confused about Imrul\\'s role in the team?'],\n [0.7351,\n  'Abdullah: \"Pretty obvious from the celebration that Kayes dedicated the century to his newborn child.'],\n [0.6369,\n  '\"Ajeet Singh: \"Imrul Kayes surpasses his previous best of 112 runs.'],\n [0.7351,\n  '-- He injured his hand during the Asia CupSonal Trivedi: \"Mehidy Hasan Miraz c †Taylor b Jarvis jinxed Khan\"\\n\\nTasmeem: \"Imrul needs to play a blinder like Hetmyer is playing for West Indies.'],\n [0.0, \"Something seems to have entered Imrul's eye.\"],\n [0.6249,\n  'Imrul Kayes played the innings of his life to make 144, and with support from Saifuddin haled them past 270.'],\n [0.6249,\n  'Imrul Kayes played the innings of his life to make 144, and with support from Saifuddin haled them past 270.'],\n [0.0, 'Imrul Kayes is the Man of the Match for his 144.'],\n [0.5994,\n  'Zeeshan Mahmud: \"Sensing Kayes double, I have exclusively made myself an Odyssian pact not to watch the match rather in a blissful zen mood follow commentary here at 1:25 am.\"'],\n [0.6319, \"Let's hope Kayes doesn't disappoint.\"],\n [-0.5106,\n  'Bangladesh wriggled out of trouble courtesy a sublime Imrul Kayes century two nights ago.'],\n [0.4019, '\"Mujahid Rahman: \"I support both Liton & Kayes.'],\n [0.4767,\n  '\"Jai: \"I believe Liton will most likely open with Tamim, but Imrul will certainly be in the starting XI, or atleast in the squad.'],\n [0.4939,\n  'Mahneel Musa: \"@Jai, \\'Mahmud\\' almost made me think you want Mahmudullah out of the XI, our only back to back world cup centurion, the man for the big occasion \"It\\'s been 28 deliveries since the last boundary.Tushar: \"Liton has improved his game so far while Imrul has been in good form.'],\n [0.0, '\"Imrul Kayes, by the way, has brought up 300 runs for the series.'],\n [0.0,\n  '-- Eight innings, SusamEver-watchful Mohammad Isam just pinged me this: Imrul Kayes now has the most runs in a three-match ODI series for Bangladesh, crossing Tamim Iqbal\\'s 312 v Pakistan in 2015.Adnan mahmud: \"These two batsmen are literally muscling the game away from Zimbabwe.'],\n [0.0,\n  \"Soumya and Imrul have added 187Another gem from Isam: This is Bangladesh's second highest score after 25 overs in an ODI.\"],\n [0.0,\n  '-- Mahmud has got the calculations doneJamal: \"At the rate Soumya is scoring, I don\\'t think Kayes will get 127!!\"'],\n [0.0, 'My choice: Tamim & Kayes at the opening.'],\n [0.0, 'Imrul kayes is Man of the Series.'],\n [0.5719, 'Soumya and Imrul played with lot of calm.'],\n [0.4019, 'We want Kayes to play.'],\n [0.3612,\n  '-- I can remember Brendon McCullum and Mark Boucher having done it a few times tooSid: \"I feel like Imrul Kayes has been very unlucky.'],\n [0.0, 'And Kayes is called back again.'],\n [0.0,\n  '\"Jinder: \"Barring form, the World Cup XI at the moment would be Tamim, Liton, Imrul, Mushfiqur, Shakib, Mahmudullah, Mehidy, Mashrafe, Nazmul, Mustafiz, Rubel.'],\n [-0.1027,\n  '-- His last 50-plus score was against Ireland in 2017Around the wicketTrihan: \"Bangladesh should stick to Soumya and try to tune him up well before the world cup and keep Imrul in the team too even if he plays a couple of bad games.'],\n [0.4588,\n  '\"Shafayet: \"Now Kayes got the chance to make 127\"\\n\\nZahid: \"maybe with sarkar gone, Imrul got a real chance to break babar\\'s record?\"'],\n [0.4588,\n  '\"Shafayet: \"Now Kayes got the chance to make 127\"\\n\\nZahid: \"maybe with sarkar gone, Imrul got a real chance to break babar\\'s record?\"'],\n [0.0,\n  'Bangladesh: Liton Das, Soumya Sarkar, Mohammad Mithun, Mushfiqur Rahim (wk), Imrul Kayes, Mahmudullah, Mehidy Hasan, Mashrafe Mortaza (capt.'],\n [-0.3612,\n  'Imrul Kayes in at 3\\n\\nShashank from Dubai: \"Would\\'ve been surprised if it wasn\\'t anything but absolute lack of pace that got Jadhav a wicket.'],\n [-0.3724,\n  'Pakistan: Fakhar Zaman, Imam Ul Haq, Babar Azam, Sarfraz Ahmed (c, wk), Shoaib Malik, Asif Ali, Shadab Khan, Mohammad Nawaz, Hasan Ali, Junaid Khan, Shaheen Shah Afridi\\n\\nBangladesh: Liton Das, Soumya Sarkar, Mohammad Mithun, Mushfiqur Rahim (wk), Mominul Haque, Imrul Kayes, Mahmudullah, Mashrafe Mortaza (c), Mehidy Hasan, Rubel Hossain, Mustafizur Rahman\\n\\nInteser: \"Shakib not playing is a huge blow.'],\n [-0.296, 'Imrul Kayes at No.'],\n [-0.5362,\n  'Gotta restart.Anand: \"Is Kayes the right batsman to come out now ??'],\n [-0.1531, 'Never saw Kayes as a aggressive batsman.'],\n [-0.3412, \"-- Think Kayes isn't as good a finisher.\"],\n [0.0,\n  'Both BD selectors and fans are incredibly impatient\"Inteser: \"Is Imrul Kayes going to open or is he going to slot in the middle order?'],\n [0.0,\n  'Bangladesh XI: Liton Das, Nazmul Shanto, Shakib Al Hasan, Mushfiqur Rahim (wk), Mahmudullah, Imrul Kayes, Mohammad Mithun, Mahsrafe Mortaza (capt.'],\n [0.0, 'Imrul and Shomay will be the right changes for Bangladesh\"Md.'],\n [0.0,\n  'Tasmeem: \"If you compare the average, you will find that Imrul has a decent average as an opener.'],\n [0.34, \"Me and Imrul just played it ball by ball, we didn't rush much.\"],\n [0.5994,\n  'Mahmudullah and Kayes were magnificent after some hara-kiri had reduced Bangladesh to 87 for 5.'],\n [0.891,\n  '\"We\\'ve dug up the laws on the use of the arm in the run-out for you:\\n\\n29.1.1.5 by a fielder with his/her hand or arm, providing that the ball is held in the hand or hands so used, or in the hand of the arm so used.Gnanaguru: \"Kayes had entered the team after a long gap... That would have created the communication gap with Mushi\"Ibrahim: \"This is not why I wake up at 6 in the morning on a Sunday.'],\n [0.6597,\n  'Nayeem: \"Heroic knock from Kayes who just flew from Dhaka about 12 hours ago and playing a match.'],\n [0.4939,\n  'Tasmeem: \"I\\'ve always thought Imrul has what it takes to succeed in the International arena.'],\n [-0.2732,\n  \"If Imrul's performance is compared with Liton's, Shoumya's or even with Sabbir's performance for last 3/4 years, I don't find any reason to drop him off now and then.\"],\n [-0.2263,\n  \"If Imrul fails for 2 matches straight, the next match he is off the team, which didn't happen for those players mentioned.\"],\n [0.1531,\n  '\"Atiq: \"No disrespect to anyone commenting, but a specialist batsman such as Kayes is expected to play responsibly.'],\n [0.0,\n  'Mahmudullah, Imrul Kayes, Mashrafe and Mustafiz have got in their way.'],\n [0.0,\n  'Shoumya, Sabbir, Imrul, Anamul, Liton, Shanto all of them were the logical picks for the national team.']]"
          },
          "execution_count": 41,
          "metadata": {},
          "output_type": "execute_result"
        }
      ]
    }
  ],
  "metadata": {
    "kernelspec": {
      "name": "python3",
      "display_name": "Python 3",
      "language": "python"
    },
    "language_info": {
      "name": "python",
      "version": "3.7.10",
      "mimetype": "text/x-python",
      "codemirror_mode": {
        "name": "ipython",
        "version": 3
      },
      "pygments_lexer": "ipython3",
      "nbconvert_exporter": "python",
      "file_extension": ".py"
    }
  },
  "nbformat": 4,
  "nbformat_minor": 2
}
